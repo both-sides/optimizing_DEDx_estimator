{
 "cells": [
  {
   "cell_type": "code",
   "execution_count": 1,
   "id": "269aec08",
   "metadata": {},
   "outputs": [],
   "source": [
    "!python ../src/utils.py\n",
    "%reload_ext autoreload"
   ]
  },
  {
   "cell_type": "code",
   "execution_count": 2,
   "id": "bf41cf7d",
   "metadata": {},
   "outputs": [
    {
     "name": "stdout",
     "output_type": "stream",
     "text": [
      "cwd: /home/bothsides/projects/optimizing_DEDx_estimator/notebooks\n"
     ]
    }
   ],
   "source": [
    "import os\n",
    "import math\n",
    "import ROOT as rt\n",
    "import numpy as np\n",
    "import matplotlib.pyplot as plt\n",
    "import copy\n",
    "import utils \n",
    "from ROOT import VecOps\n",
    "from analysis import (df1, tree1, HMNCSBR, TRUNCSBR, COLOR_MAP)\n",
    "\n",
    "name_tag = str(utils.TAG)\n",
    "print(\"cwd:\", os.getcwd())"
   ]
  },
  {
   "cell_type": "code",
   "execution_count": 3,
   "id": "4bfb0f01",
   "metadata": {},
   "outputs": [
    {
     "name": "stdout",
     "output_type": "stream",
     "text": [
      "Branch `DeDx_FiPixel` → Leaf `DeDx_FiPixel` : vector<float>\n",
      "Branch `DeDx_FiPixelNoL1` → Leaf `DeDx_FiPixelNoL1` : vector<float>\n",
      "Branch `DeDx_Gi` → Leaf `DeDx_Gi` : vector<float>\n",
      "Branch `DeDx_GiStrip` → Leaf `DeDx_GiStrip` : vector<float>\n",
      "Branch `DeDx_Ih` → Leaf `DeDx_Ih` : vector<float>\n",
      "Branch `DeDx_IhNOM` → Leaf `DeDx_IhNOM` : vector<unsigned int>\n",
      "Branch `DeDx_IhNoL1` → Leaf `DeDx_IhNoL1` : vector<float>\n",
      "Branch `DeDx_IhNoL1NOM` → Leaf `DeDx_IhNoL1NOM` : vector<unsigned int>\n",
      "Branch `DeDx_IhPixel` → Leaf `DeDx_IhPixel` : vector<float>\n",
      "Branch `DeDx_IhPixelNoL1` → Leaf `DeDx_IhPixelNoL1` : vector<float>\n",
      "Branch `DeDx_IhStrip` → Leaf `DeDx_IhStrip` : vector<float>\n",
      "Branch `DeDx_IhStrip1` → Leaf `DeDx_IhStrip1` : vector<float>\n",
      "Branch `DeDx_IhStrip3` → Leaf `DeDx_IhStrip3` : vector<float>\n",
      "Branch `DeDx_IhStrip4` → Leaf `DeDx_IhStrip4` : vector<float>\n",
      "Branch `DeDx_It` → Leaf `DeDx_It` : vector<float>\n",
      "Branch `DeDx_ItStrip` → Leaf `DeDx_ItStrip` : vector<float>\n",
      "Branch `DeDx_ItStrip0` → Leaf `DeDx_ItStrip0` : vector<float>\n",
      "Branch `DeDx_ItStrip10` → Leaf `DeDx_ItStrip10` : vector<float>\n",
      "Branch `DeDx_ItStrip15` → Leaf `DeDx_ItStrip15` : vector<float>\n",
      "Branch `DeDx_ItStrip20` → Leaf `DeDx_ItStrip20` : vector<float>\n",
      "Branch `DeDx_ItStrip25` → Leaf `DeDx_ItStrip25` : vector<float>\n",
      "Branch `DeDx_ItStrip30` → Leaf `DeDx_ItStrip30` : vector<float>\n",
      "Branch `DeDx_ItStrip35` → Leaf `DeDx_ItStrip35` : vector<float>\n",
      "Branch `DeDx_ItStrip5` → Leaf `DeDx_ItStrip5` : vector<float>\n",
      "Branch `DeDx_NoL1NOM` → Leaf `DeDx_NoL1NOM` : vector<unsigned int>\n",
      "Branch `DeDx_PixelNoL1NOM` → Leaf `DeDx_PixelNoL1NOM` : vector<unsigned int>\n",
      "Branch `Flag_BadPFMuonDzFilter` → Leaf `Flag_BadPFMuonDzFilter` : Bool_t\n",
      "Branch `Flag_BadPFMuonFilter` → Leaf `Flag_BadPFMuonFilter` : Bool_t\n",
      "Branch `Flag_EcalDeadCellTriggerPrimitiveFilter` → Leaf `Flag_EcalDeadCellTriggerPrimitiveFilter` : Bool_t\n",
      "Branch `Flag_HBHENoiseFilter` → Leaf `Flag_HBHENoiseFilter` : Bool_t\n",
      "Branch `Flag_HBHENoiseIsoFilter` → Leaf `Flag_HBHENoiseIsoFilter` : Bool_t\n",
      "Branch `Flag_allMETFilters` → Leaf `Flag_allMETFilters` : Bool_t\n",
      "Branch `Flag_ecalBadCalibFilter` → Leaf `Flag_ecalBadCalibFilter` : Bool_t\n",
      "Branch `Flag_eeBadScFilter` → Leaf `Flag_eeBadScFilter` : Bool_t\n",
      "Branch `Flag_globalSuperTightHalo2016Filter` → Leaf `Flag_globalSuperTightHalo2016Filter` : Bool_t\n",
      "Branch `Flag_hfNoisyHitsFilter` → Leaf `Flag_hfNoisyHitsFilter` : Bool_t\n",
      "Branch `GenPart_beta` → Leaf `GenPart_beta` : vector<double>\n",
      "Branch `GenPart_charge` → Leaf `GenPart_charge` : vector<int>\n",
      "Branch `GenPart_digluino_pt` → Leaf `GenPart_digluino_pt` : Double_t\n",
      "Branch `GenPart_energy` → Leaf `GenPart_energy` : vector<double>\n",
      "Branch `GenPart_eta` → Leaf `GenPart_eta` : vector<double>\n",
      "Branch `GenPart_gluino_n` → Leaf `GenPart_gluino_n` : UInt_t\n",
      "Branch `GenPart_mass` → Leaf `GenPart_mass` : vector<double>\n",
      "Branch `GenPart_p` → Leaf `GenPart_p` : vector<double>\n",
      "Branch `GenPart_pdgId` → Leaf `GenPart_pdgId` : vector<int>\n",
      "Branch `GenPart_phi` → Leaf `GenPart_phi` : vector<double>\n",
      "Branch `GenPart_pt` → Leaf `GenPart_pt` : vector<double>\n",
      "Branch `GenPart_status` → Leaf `GenPart_status` : vector<int>\n",
      "Branch `HLTCaloMET` → Leaf `HLTCaloMET` : Float_t\n",
      "Branch `HLTCaloMETClean` → Leaf `HLTCaloMETClean` : Float_t\n",
      "Branch `HLTCaloMETClean_phi` → Leaf `HLTCaloMETClean_phi` : Float_t\n",
      "Branch `HLTCaloMETClean_sigf` → Leaf `HLTCaloMETClean_sigf` : Float_t\n",
      "Branch `HLTCaloMET_phi` → Leaf `HLTCaloMET_phi` : Float_t\n",
      "Branch `HLTCaloMET_sigf` → Leaf `HLTCaloMET_sigf` : Float_t\n",
      "Branch `HLTCaloMHT` → Leaf `HLTCaloMHT` : Float_t\n",
      "Branch `HLTCaloMHT_phi` → Leaf `HLTCaloMHT_phi` : Float_t\n",
      "Branch `HLTCaloMHT_sigf` → Leaf `HLTCaloMHT_sigf` : Float_t\n",
      "Branch `HLTPFMET` → Leaf `HLTPFMET` : Float_t\n",
      "Branch `HLTPFMET_phi` → Leaf `HLTPFMET_phi` : Float_t\n",
      "Branch `HLTPFMET_sigf` → Leaf `HLTPFMET_sigf` : Float_t\n",
      "Branch `HLTPFMHT` → Leaf `HLTPFMHT` : Float_t\n",
      "Branch `HLTPFMHT_phi` → Leaf `HLTPFMHT_phi` : Float_t\n",
      "Branch `HLTPFMHT_sigf` → Leaf `HLTPFMHT_sigf` : Float_t\n",
      "Branch `HLT_FilterOR` → Leaf `HLT_FilterOR` : Bool_t\n",
      "Branch `HLT_Mu50` → Leaf `HLT_Mu50` : Bool_t\n",
      "Branch `HSCP_hasDeDx` → Leaf `HSCP_hasDeDx` : vector<bool>\n",
      "Branch `HSCP_hasMuon` → Leaf `HSCP_hasMuon` : vector<bool>\n",
      "Branch `HSCP_hasTrack` → Leaf `HSCP_hasTrack` : vector<bool>\n",
      "Branch `HSCP_n` → Leaf `HSCP_n` : UInt_t\n",
      "Branch `HSCP_type` → Leaf `HSCP_type` : vector<int>\n",
      "Branch `IsoTrack_charge` → Leaf `IsoTrack_charge` : vector<int>\n",
      "Branch `IsoTrack_dxy` → Leaf `IsoTrack_dxy` : vector<double>\n",
      "Branch `IsoTrack_dxyError` → Leaf `IsoTrack_dxyError` : vector<double>\n",
      "Branch `IsoTrack_dz` → Leaf `IsoTrack_dz` : vector<double>\n",
      "Branch `IsoTrack_dzError` → Leaf `IsoTrack_dzError` : vector<double>\n",
      "Branch `IsoTrack_eta` → Leaf `IsoTrack_eta` : vector<double>\n",
      "Branch `IsoTrack_fractionOfValidHits` → Leaf `IsoTrack_fractionOfValidHits` : vector<double>\n",
      "Branch `IsoTrack_isHighPurityTrack` → Leaf `IsoTrack_isHighPurityTrack` : vector<bool>\n",
      "Branch `IsoTrack_isPFcnad` → Leaf `IsoTrack_isPFcnad` : vector<bool>\n",
      "Branch `IsoTrack_miniRelIso` → Leaf `IsoTrack_miniRelIso` : vector<float>\n",
      "Branch `IsoTrack_normChi2` → Leaf `IsoTrack_normChi2` : vector<double>\n",
      "Branch `IsoTrack_numberOfTrackerLayers` → Leaf `IsoTrack_numberOfTrackerLayers` : vector<int>\n",
      "Branch `IsoTrack_numberOfValidHits` → Leaf `IsoTrack_numberOfValidHits` : vector<int>\n",
      "Branch `IsoTrack_numberOfValidPixelHits` → Leaf `IsoTrack_numberOfValidPixelHits` : vector<int>\n",
      "Branch `IsoTrack_p` → Leaf `IsoTrack_p` : vector<double>\n",
      "Branch `IsoTrack_pfEcalEnergy` → Leaf `IsoTrack_pfEcalEnergy` : vector<float>\n",
      "Branch `IsoTrack_pfEnergyOverP` → Leaf `IsoTrack_pfEnergyOverP` : vector<double>\n",
      "Branch `IsoTrack_pfHcalEnergy` → Leaf `IsoTrack_pfHcalEnergy` : vector<float>\n",
      "Branch `IsoTrack_pfMiniRelIsoAll` → Leaf `IsoTrack_pfMiniRelIsoAll` : vector<float>\n",
      "Branch `IsoTrack_pfMiniRelIsoChg` → Leaf `IsoTrack_pfMiniRelIsoChg` : vector<float>\n",
      "Branch `IsoTrack_phi` → Leaf `IsoTrack_phi` : vector<double>\n",
      "Branch `IsoTrack_pt` → Leaf `IsoTrack_pt` : vector<double>\n",
      "Branch `IsoTrack_ptErrOverPt` → Leaf `IsoTrack_ptErrOverPt` : vector<double>\n",
      "Branch `IsoTrack_ptErrOverPt2` → Leaf `IsoTrack_ptErrOverPt2` : vector<double>\n",
      "Branch `IsoTrack_ptError` → Leaf `IsoTrack_ptError` : vector<double>\n",
      "Branch `IsoTrack_px` → Leaf `IsoTrack_px` : vector<double>\n",
      "Branch `IsoTrack_py` → Leaf `IsoTrack_py` : vector<double>\n",
      "Branch `IsoTrack_pz` → Leaf `IsoTrack_pz` : vector<double>\n",
      "Branch `L1ETSum` → Leaf `L1ETSum` : Double_t\n",
      "Branch `L1HTSum` → Leaf `L1HTSum` : Double_t\n",
      "Branch `L1MET` → Leaf `L1MET` : Double_t\n",
      "Branch `L1METHF` → Leaf `L1METHF` : Double_t\n",
      "Branch `L1METHF_phi` → Leaf `L1METHF_phi` : Double_t\n",
      "Branch `L1MET_phi` → Leaf `L1MET_phi` : Double_t\n",
      "Branch `L1MHT` → Leaf `L1MHT` : Double_t\n",
      "Branch `L1MHT_phi` → Leaf `L1MHT_phi` : Double_t\n",
      "Branch `Muon_combRelIsoPF03dBeta` → Leaf `Muon_combRelIsoPF03dBeta` : vector<float>\n",
      "Branch `Muon_eta` → Leaf `Muon_eta` : vector<double>\n",
      "Branch `Muon_isGlobal` → Leaf `Muon_isGlobal` : vector<bool>\n",
      "Branch `Muon_isPFcand` → Leaf `Muon_isPFcand` : vector<bool>\n",
      "Branch `Muon_isStandAlone` → Leaf `Muon_isStandAlone` : vector<bool>\n",
      "Branch `Muon_isTracker` → Leaf `Muon_isTracker` : vector<bool>\n",
      "Branch `Muon_pfIso03_sumPU` → Leaf `Muon_pfIso03_sumPU` : vector<float>\n",
      "Branch `Muon_pfIso04_charged` → Leaf `Muon_pfIso04_charged` : vector<float>\n",
      "Branch `Muon_pfIso04_neutral` → Leaf `Muon_pfIso04_neutral` : vector<float>\n",
      "Branch `Muon_pfIso04_photon` → Leaf `Muon_pfIso04_photon` : vector<float>\n",
      "Branch `Muon_phi` → Leaf `Muon_phi` : vector<double>\n",
      "Branch `Muon_pt` → Leaf `Muon_pt` : vector<double>\n",
      "Branch `Muon_time_inverseBeta` → Leaf `Muon_time_inverseBeta` : vector<float>\n",
      "Branch `Muon_time_inverseBetaErr` → Leaf `Muon_time_inverseBetaErr` : vector<float>\n",
      "Branch `Muon_time_nDof` → Leaf `Muon_time_nDof` : vector<int>\n",
      "Branch `Muon_timecsc_inverseBeta` → Leaf `Muon_timecsc_inverseBeta` : vector<float>\n",
      "Branch `Muon_timecsc_inverseBetaErr` → Leaf `Muon_timecsc_inverseBetaErr` : vector<float>\n",
      "Branch `Muon_timecsc_nDof` → Leaf `Muon_timecsc_nDof` : vector<int>\n",
      "Branch `Muon_timedt_inverseBeta` → Leaf `Muon_timedt_inverseBeta` : vector<float>\n",
      "Branch `Muon_timedt_inverseBetaErr` → Leaf `Muon_timedt_inverseBetaErr` : vector<float>\n",
      "Branch `Muon_timedt_nDof` → Leaf `Muon_timedt_nDof` : vector<int>\n",
      "Branch `PV_ndof` → Leaf `PV_ndof` : vector<double>\n",
      "Branch `PV_npvsGood` → Leaf `PV_npvsGood` : UInt_t\n",
      "Branch `PV_rho` → Leaf `PV_rho` : vector<double>\n",
      "Branch `PV_x` → Leaf `PV_x` : vector<double>\n",
      "Branch `PV_y` → Leaf `PV_y` : vector<double>\n",
      "Branch `PV_z` → Leaf `PV_z` : vector<double>\n",
      "Branch `RecoCaloMET` → Leaf `RecoCaloMET` : Double_t\n",
      "Branch `RecoCaloMET_phi` → Leaf `RecoCaloMET_phi` : Double_t\n",
      "Branch `RecoCaloMET_sigf` → Leaf `RecoCaloMET_sigf` : Double_t\n",
      "Branch `RecoPFMET` → Leaf `RecoPFMET` : Double_t\n",
      "Branch `RecoPFMET_phi` → Leaf `RecoPFMET_phi` : Double_t\n",
      "Branch `RecoPFMET_sigf` → Leaf `RecoPFMET_sigf` : Double_t\n",
      "Branch `bunchCrossing` → Leaf `bunchCrossing` : UInt_t\n",
      "Branch `cluster_Charge` → Leaf `cluster_Charge` : vector<vector<float> >\n",
      "Branch `cluster_DeDxStrip` → Leaf `cluster_DeDxStrip` : vector<vector<float> >\n",
      "Branch `cluster_DetId` → Leaf `cluster_DetId` : vector<vector<unsigned int> >\n",
      "Branch `cluster_SaturatingStrips` → Leaf `cluster_SaturatingStrips` : vector<vector<unsigned int> >\n",
      "Branch `event` → Leaf `event` : ULong64_t\n",
      "Branch `isData` → Leaf `isData` : Bool_t\n",
      "Branch `luminosityBlock` → Leaf `luminosityBlock` : UInt_t\n",
      "Branch `nIsoTrack` → Leaf `nIsoTrack` : UInt_t\n",
      "Branch `nMuon` → Leaf `nMuon` : UInt_t\n",
      "Branch `run` → Leaf `run` : UInt_t\n",
      "Branch `weight_generator` → Leaf `weight_generator` : Double_t\n",
      "Branch `weight_generatorBinningValues` → Leaf `weight_generatorBinningValues` : Double_t\n"
     ]
    }
   ],
   "source": [
    "for branch in tree1.GetListOfBranches():\n",
    "    for leaf in branch.GetListOfLeaves():\n",
    "        print(f\"Branch `{branch.GetName()}` → Leaf `{leaf.GetName()}` : {leaf.GetTypeName()}\")"
   ]
  },
  {
   "cell_type": "code",
   "execution_count": 11,
   "id": "d34d9b75",
   "metadata": {},
   "outputs": [],
   "source": [
    "df = df1.Filter(\n",
    "    \"ROOT::VecOps::Sum( \"\n",
    "    \"  (IsoTrack_pt > 0.40) && \"\n",
    "    \"  IsoTrack_isHighPurityTrack \"\n",
    "    \") > 0\"\n",
    ")\n"
   ]
  },
  {
   "cell_type": "code",
   "execution_count": 6,
   "id": "2390f92a",
   "metadata": {},
   "outputs": [],
   "source": [
    "p_branch      = \"IsoTrack_pt\"\n",
    "est_branch   = \"DeDx_IhStrip\"\n",
    "\n",
    "\n",
    "# Momentum bin edges for MPV extraction (coarser = more stable fits):\n",
    "p_edges = [0.4,0.5,0.6,0.7,0.8,0.9,1.0,1.2,1.4,1.6,1.8,2.0,2.5,3.0,4.0,5.0]\n",
    "\n",
    "# Reference species mass for the fit (π by default) and masses for extrapolation:\n",
    "m_pi = 0.13957\n",
    "masses = {\"#pi\":0.13957, \"K\":0.49367, \"p\":0.93827, \"D\":1.87561}  # GeV"
   ]
  },
  {
   "cell_type": "code",
   "execution_count": 12,
   "id": "f9648790",
   "metadata": {},
   "outputs": [
    {
     "name": "stderr",
     "output_type": "stream",
     "text": [
      "Warning in <TCanvas::Constructor>: Deleting canvas with same name: c\n"
     ]
    },
    {
     "data": {
      "image/png": "[encoded data removed]",
      "text/plain": [
       "<IPython.core.display.Image object>"
      ]
     },
     "metadata": {},
     "output_type": "display_data"
    }
   ],
   "source": [
    "# ---------- 2D histogram ----------\n",
    "xbins, xmin, xmax = 400, 0, 500\n",
    "ybins, ymin, ymax = 120, 0.5, 14.0\n",
    "h2d = df.Histo2D((\"h2\",\";Track momentum [GeV/c];dE/dx estimator [MeV/cm]\", \n",
    "                  xbins, xmin, xmax, ybins, ymin, ymax), p_branch, est_branch)\n",
    "\n",
    "\n",
    "c = rt.TCanvas(\"c\",\"p vs dEdx\", 1000, 650)\n",
    "rt.gPad.SetRightMargin(0.15)\n",
    "rt.gPad.SetLogz()\n",
    "h2d.Draw(\"COLZ\")\n",
    "c.Draw()\n"
   ]
  },
  {
   "cell_type": "code",
   "execution_count": null,
   "id": "3ca052b2",
   "metadata": {},
   "outputs": [],
   "source": []
  }
 ],
 "metadata": {
  "kernelspec": {
   "display_name": ".venv",
   "language": "python",
   "name": "python3"
  },
  "language_info": {
   "codemirror_mode": {
    "name": "ipython",
    "version": 3
   },
   "file_extension": ".py",
   "mimetype": "text/x-python",
   "name": "python",
   "nbconvert_exporter": "python",
   "pygments_lexer": "ipython3",
   "version": "3.12.3"
  }
 },
 "nbformat": 4,
 "nbformat_minor": 5
}
