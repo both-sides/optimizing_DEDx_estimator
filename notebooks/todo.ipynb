{
 "cells": [
  {
   "cell_type": "raw",
   "id": "3020718b",
   "metadata": {
    "vscode": {
     "languageId": "raw"
    }
   },
   "source": [
    "the spread was limited for most of the tracks, that were fitted\n",
    "My spread initial parameter needs to be fixed\n",
    "***variate the initial parameters"
   ]
  }
 ],
 "metadata": {
  "language_info": {
   "name": "python"
  }
 },
 "nbformat": 4,
 "nbformat_minor": 5
}
