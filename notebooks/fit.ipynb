{
 "cells": [
  {
   "cell_type": "code",
   "execution_count": 54,
   "id": "0536fec4",
   "metadata": {},
   "outputs": [
    {
     "name": "stdout",
     "output_type": "stream",
     "text": [
      "cwd: /home/student/projects/optimizing_DEDx_estimator/notebooks\n"
     ]
    }
   ],
   "source": [
    "import os\n",
    "import math\n",
    "import ROOT as rt\n",
    "import numpy as np\n",
    "import matplotlib.pyplot as plt\n",
    "import utils \n",
    "from ROOT import VecOps\n",
    "from analysis import (df, df_filtered, tree, HMNCSBR, TRUNCSBR, COLOR_MAP)\n",
    "\n",
    "name_tag = str(utils.TAG)\n",
    "print(\"cwd:\", os.getcwd())"
   ]
  },
  {
   "cell_type": "code",
   "execution_count": 55,
   "id": "af88fbaa",
   "metadata": {},
   "outputs": [],
   "source": [
    "cluster = df.AsNumpy([\"cluster_DeDxStrip\"])[\"cluster_DeDxStrip\"]"
   ]
  },
  {
   "cell_type": "code",
   "execution_count": 56,
   "id": "858c4ec9",
   "metadata": {},
   "outputs": [
    {
     "name": "stdout",
     "output_type": "stream",
     "text": [
      "number of events:7713\n",
      "\n",
      "Event ID36263 with 1 tracks\n",
      " Showing only those with hits > 22 : \n",
      "\tTrack No.1 with 23 strip hits: { 5.26964f, 6.01354f, 5.00183f, 5.30874f, 5.27804f, 6.56701f, 8.34674f, 9.29797f, 7.39553f, 5.33937f, 4.63904f, 5.66134f, 4.69567f, 5.69908f, 9.71308f, 6.32411f, 5.13122f, 5.05548f, 4.80878f, 4.73389f, 5.56630f, 5.81295f, 5.77556f }\n",
      " Track's Harmonic average = 5.637402057647705\n",
      "\n",
      "Event ID42880 with 4 tracks\n",
      " Showing only those with hits > 22 : \n",
      "\tTrack No.2 with 26 strip hits: { 9.14398f, 5.98114f, 5.79338f, 6.73284f, 5.57405f, 6.92061f, 9.92679f, 5.16695f, 11.8683f, 8.29845f, 9.01876f, 8.73690f, 6.38828f, 6.02906f, 6.10583f, 6.43450f, 6.04795f, 6.16403f, 5.70021f, 5.89341f, 6.37663f, 6.00926f, 6.29966f, 5.56496f, 6.06761f, 5.17837f }\n",
      " Track's Harmonic average = 6.424683570861816\n",
      "\n",
      "Event ID63017 with 2 tracks\n",
      " Showing only those with hits > 22 : \n",
      "\tTrack No.2 with 23 strip hits: { 3.61078f, 3.36644f, 3.52082f, 5.92984f, 3.27378f, 4.72533f, 7.56682f, 3.10628f, 3.27776f, 4.76402f, 3.20155f, 2.85852f, 2.93486f, 2.85863f, 2.59176f, 2.85845f, 4.40225f, 8.93740f, 10.7485f, 2.36296f, 3.48760f, 2.61089f, 4.44009f }\n",
      " Track's Harmonic average = 3.4507217407226562\n",
      "\n",
      "Event ID73523 with 2 tracks\n",
      " Showing only those with hits > 22 : \n",
      "\tTrack No.1 with 23 strip hits: { 11.5992f, 9.66067f, 10.0737f, 9.91495f, 9.91482f, 9.15228f, 8.07172f, 11.0589f, 9.50191f, 10.5506f, 9.59708f, 8.61192f, 8.45315f, 9.78804f, 7.00023f, 6.72602f, 6.82396f, 6.41209f, 6.15704f, 7.68714f, 6.21618f, 6.47145f, 6.00068f }\n",
      " Track's Harmonic average = 7.973351001739502\n",
      "\n"
     ]
    }
   ],
   "source": [
    "\n",
    "# checking how the TTree arranges the data I need\n",
    "\n",
    "print(f\"number of events:{tree.GetEntries()}\\n\")\n",
    "\n",
    "count = 0\n",
    "for (i, event), (j, tracks) in zip(\n",
    "      enumerate(tree), \n",
    "      enumerate(cluster)\n",
    "    ):\n",
    "    if tracks:\n",
    "        avg = event.DeDx_IhStrip\n",
    "        for i,track in enumerate(tracks):\n",
    "            hits = len(track)\n",
    "            thrshld = 22\n",
    "            if hits > thrshld:\n",
    "                print(f\"Event ID{event.event} with {len(tracks)} tracks\\n Showing only those with hits > {thrshld} : \")\n",
    "                print(f\"\\tTrack No.{i+1} with {hits} strip hits: {track}\\n Track's Harmonic average = {avg[i]}\\n\")\n",
    "        # count += 1\n",
    "        # if count == 100:\n",
    "        #     break\n",
    "    "
   ]
  },
  {
   "cell_type": "code",
   "execution_count": 57,
   "id": "3cb48cf4",
   "metadata": {},
   "outputs": [],
   "source": [
    "# Event ID42880 with 4 tracks\n",
    "#  Showing only those with hits > 25 : \n",
    "# \tTrack No.2 with 26 strip hits: { 9.14398f, 5.98114f, 5.79338f, 6.73284f, 5.57405f, 6.92061f, 9.92679f, 5.16695f, 11.8683f, 8.29845f, 9.01876f, 8.73690f, 6.38828f, 6.02906f, 6.10583f, 6.43450f, 6.04795f, 6.16403f, 5.70021f, 5.89341f, 6.37663f, 6.00926f, 6.29966f, 5.56496f, 6.06761f, 5.17837f }\n",
    "#  Track's Harmonic average = 6.424683570861816\n",
    "\n",
    "# Event ID36263 with 1 tracks\n",
    "#  Showing only those with hits > 22 : \n",
    "# \tTrack No.1 with 23 strip hits: { 5.26964f, 6.01354f, 5.00183f, 5.30874f, 5.27804f, 6.56701f, 8.34674f, 9.29797f, 7.39553f, 5.33937f, 4.63904f, 5.66134f, 4.69567f, 5.69908f, 9.71308f, 6.32411f, 5.13122f, 5.05548f, 4.80878f, 4.73389f, 5.56630f, 5.81295f, 5.77556f }\n",
    "#  Track's Harmonic average = 5.637402057647705\n",
    "\n",
    "# Event ID42880 with 4 tracks\n",
    "#  Showing only those with hits > 22 : \n",
    "# \tTrack No.2 with 26 strip hits: { 9.14398f, 5.98114f, 5.79338f, 6.73284f, 5.57405f, 6.92061f, 9.92679f, 5.16695f, 11.8683f, 8.29845f, 9.01876f, 8.73690f, 6.38828f, 6.02906f, 6.10583f, 6.43450f, 6.04795f, 6.16403f, 5.70021f, 5.89341f, 6.37663f, 6.00926f, 6.29966f, 5.56496f, 6.06761f, 5.17837f }\n",
    "#  Track's Harmonic average = 6.424683570861816\n",
    "\n",
    "# Event ID63017 with 2 tracks\n",
    "#  Showing only those with hits > 22 : \n",
    "# \tTrack No.2 with 23 strip hits: { 3.61078f, 3.36644f, 3.52082f, 5.92984f, 3.27378f, 4.72533f, 7.56682f, 3.10628f, 3.27776f, 4.76402f, 3.20155f, 2.85852f, 2.93486f, 2.85863f, 2.59176f, 2.85845f, 4.40225f, 8.93740f, 10.7485f, 2.36296f, 3.48760f, 2.61089f, 4.44009f }\n",
    "#  Track's Harmonic average = 3.4507217407226562\n",
    "\n",
    "# Event ID73523 with 2 tracks\n",
    "#  Showing only those with hits > 22 : \n",
    "# \tTrack No.1 with 23 strip hits: { 11.5992f, 9.66067f, 10.0737f, 9.91495f, 9.91482f, 9.15228f, 8.07172f, 11.0589f, 9.50191f, 10.5506f, 9.59708f, 8.61192f, 8.45315f, 9.78804f, 7.00023f, 6.72602f, 6.82396f, 6.41209f, 6.15704f, 7.68714f, 6.21618f, 6.47145f, 6.00068f }\n",
    "#  Track's Harmonic average = 7.973351001739502"
   ]
  },
  {
   "cell_type": "code",
   "execution_count": 58,
   "id": "9fc4441d",
   "metadata": {},
   "outputs": [
    {
     "name": "stdout",
     "output_type": "stream",
     "text": [
      "Event 36263  Track 1  23 hits\n",
      "[5.269637584686279, 6.013542652130127, 5.001830577850342, 5.308736801147461, 5.278040409088135, 6.567014694213867, 8.346741676330566, 9.297966003417969, 7.395531177520752, 5.339369297027588, 4.639042854309082, 5.661344051361084, 4.695667266845703, 5.699080944061279, 9.713075637817383, 6.324105262756348, 5.131218433380127, 5.055481910705566, 4.808780193328857, 4.73388671875, 5.566300392150879, 5.812950611114502, 5.775557041168213]\n",
      "{ 5.26964f, 6.01354f, 5.00183f, 5.30874f, 5.27804f, 6.56701f, 8.34674f, 9.29797f, 7.39553f, 5.33937f, 4.63904f, 5.66134f, 4.69567f, 5.69908f, 9.71308f, 6.32411f, 5.13122f, 5.05548f, 4.80878f, 4.73389f, 5.56630f, 5.81295f, 5.77556f }\n"
     ]
    }
   ],
   "source": [
    "target_event = 36263      # the event you asked for\n",
    "target_hits  = 23         # track must have exactly 23 strip hits\n",
    "t = []\n",
    "# --- loop once over the tree ------------------------------------------------\n",
    "for evt in tree:                       # evt is the TTree reader object\n",
    "    if evt.event != target_event:      # adjust branch name if not 'event'\n",
    "        continue\n",
    "\n",
    "    # evt.cluster_DeDxStrip is a vector<vector<float>>\n",
    "    for idx, track in enumerate(evt.cluster_DeDxStrip):\n",
    "        if len(track) == target_hits:\n",
    "            t = track\n",
    "            print(f\"Event {target_event}  Track {idx+1}  \"\n",
    "                  f\"{len(track)} hits\\n{list(track)}\")\n",
    "            break     # found it, exit inner loop\n",
    "    break             # event found, exit outer loop\n",
    "\n",
    "print(t)"
   ]
  },
  {
   "cell_type": "code",
   "execution_count": 62,
   "id": "2eac3c9f",
   "metadata": {},
   "outputs": [
    {
     "name": "stdout",
     "output_type": "stream",
     "text": [
      "****************************************\n",
      "Minimizer is Minuit2 / Migrad\n",
      "Chi2                      =      1.49557\n",
      "NDf                       =            3\n",
      "Edm                       =  7.70136e-06\n",
      "NCalls                    =          209\n",
      "Constant                  =       117.53   +/-   114.467     \n",
      "MPV                       =      5.00131   +/-   0.230341    \n",
      "Sigma                     =     0.238047   +/-   0.14861      \t (limited)\n"
     ]
    },
    {
     "name": "stderr",
     "output_type": "stream",
     "text": [
      "Warning in <TFile::Append>: Replacing existing TH1: h (Potential memory leak).\n"
     ]
    },
    {
     "data": {
      "image/png": "[encoded data removed]",
      "text/plain": [
       "<IPython.core.display.Image object>"
      ]
     },
     "metadata": {},
     "output_type": "display_data"
    }
   ],
   "source": [
    "# track now holds the list / RVec<float> of 23 strip charges\n",
    "charges = list(t)          \n",
    "\n",
    "# 1) pick sensible histogram limits -----------------------------\n",
    "qmin, qmax = min(charges), max(charges)\n",
    "lo  = 0.8 * qmin              \n",
    "hi  = 1.1 * qmax               \n",
    "nbins = 23                     \n",
    "\n",
    "# 2) fill the histogram -----------------------------------------\n",
    "h = rt.TH1F(\"h\", f\"Event {target_event};dE/dx (MEV/cm);entries\", nbins, 0, nbins)\n",
    "for q in charges:\n",
    "    h.Fill(q)\n",
    "\n",
    "# 3) draw (and optionally fit) ----------------------------------\n",
    "c = rt.TCanvas(\"c\", \"\", 600, 500)\n",
    "h.Draw(\"P\")\n",
    "h.SetMarkerStyle(20)\n",
    "h.SetMaximum(30)\n",
    "\n",
    "# optional Landau fit:\n",
    "h.Fit(\"landau\")              # remove 'Q' if you want the fit print-out\n",
    "c.Draw()\n",
    "\n"
   ]
  },
  {
   "cell_type": "code",
   "execution_count": 60,
   "id": "cb58d72a",
   "metadata": {},
   "outputs": [
    {
     "name": "stderr",
     "output_type": "stream",
     "text": [
      "Warning in <TFile::Append>: Replacing existing TH1: h1 (Potential memory leak).\n"
     ]
    },
    {
     "data": {
      "image/png": "[encoded data removed]",
      "text/plain": [
       "<IPython.core.display.Image object>"
      ]
     },
     "metadata": {},
     "output_type": "display_data"
    }
   ],
   "source": [
    "h1 = rt.TH1F(\"h1\", \" hits distribution; DEDx hits(MEV/cm); counts\", 100, 0, 40)\n",
    "\n",
    "for tracks in cluster:\n",
    "  for track in tracks:  \n",
    "    for hit in track:\n",
    "      h1.Fill(hit)\n",
    "\n",
    "c = rt.TCanvas()\n",
    "h1.Draw()\n",
    "c.Draw()"
   ]
  },
  {
   "cell_type": "code",
   "execution_count": null,
   "id": "191603d5",
   "metadata": {},
   "outputs": [
    {
     "name": "stdout",
     "output_type": "stream",
     "text": [
      "26\n",
      "{ 9.14398f, 5.98114f, 5.79338f, 6.73284f, 5.57405f, 6.92061f, 9.92679f, 5.16695f, 11.8683f, 8.29845f, 9.01876f, 8.73690f, 6.38828f, 6.02906f, 6.10583f, 6.43450f, 6.04795f, 6.16403f, 5.70021f, 5.89341f, 6.37663f, 6.00926f, 6.29966f, 5.56496f, 6.06761f, 5.17837f }\n",
      "****************************************\n",
      "Minimizer is Minuit2 / Migrad\n",
      "Chi2                      =      1.12899\n",
      "NDf                       =            2\n",
      "Edm                       =  8.43318e-06\n",
      "NCalls                    =          125\n",
      "Constant                  =       75.871   +/-   29.6076     \n",
      "MPV                       =      6.15598   +/-   0.188818    \n",
      "Sigma                     =     0.451741   +/-   0.181882     \t (limited)\n"
     ]
    },
    {
     "data": {
      "image/png": "[encoded data removed]",
      "text/plain": [
       "<IPython.core.display.Image object>"
      ]
     },
     "metadata": {},
     "output_type": "display_data"
    }
   ],
   "source": [
    "\n",
    "thrshld = 23\n",
    "\n",
    "for event, (j, tracks) in zip(\n",
    "      tree, \n",
    "      enumerate(cluster)\n",
    "    ):\n",
    "  hists = []\n",
    "  for i, track in enumerate(tracks): \n",
    "    if len(track) > thrshld:\n",
    "      hist = rt.TH1F(f\"h{i}\", f\"Event {event.event}, track {i};dE/dx (MEV/cm);entries\", len(track), 0, len(track))\n",
    "      f = rt.TCanvas()\n",
    "      print(len(track))\n",
    "    \n",
    "      for hit in track:\n",
    "          hist.Fill(hit)\n",
    "      hist.Draw(\"P\")\n",
    "      hist.SetMarkerStyle(20)\n",
    "      hist.Fit(\"landau\")\n",
    "      f.Draw(\"same\")\n",
    "      print(track)\n",
    "    #print(track)\n",
    "    \n",
    "    \n",
    "    #TODO: FIT PARAMETERS AND HARMONIC FOR EACH TRACK IN A TUPLE AND SAVE THAT INTO AN ARRAY, draw a 2d corelation histogram btween the two tuples\n",
    "    #TODO: for about 10 fits, save images, and "
   ]
  },
  {
   "cell_type": "code",
   "execution_count": null,
   "id": "c05d6961",
   "metadata": {},
   "outputs": [],
   "source": []
  },
  {
   "cell_type": "code",
   "execution_count": null,
   "id": "5bd959bf",
   "metadata": {},
   "outputs": [],
   "source": []
  }
 ],
 "metadata": {
  "kernelspec": {
   "display_name": "Python (AlmaLinux + ROOT)",
   "language": "python",
   "name": "alma-pyroot"
  },
  "language_info": {
   "codemirror_mode": {
    "name": "ipython",
    "version": 3
   },
   "file_extension": ".py",
   "mimetype": "text/x-python",
   "name": "python",
   "nbconvert_exporter": "python",
   "pygments_lexer": "ipython3",
   "version": "3.9.21"
  }
 },
 "nbformat": 4,
 "nbformat_minor": 5
}
