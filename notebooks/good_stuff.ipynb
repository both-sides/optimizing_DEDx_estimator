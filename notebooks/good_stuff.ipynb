{
 "cells": [
  {
   "cell_type": "raw",
   "id": "3fa9b7f0",
   "metadata": {
    "vscode": {
     "languageId": "raw"
    }
   },
   "source": [
    "# checking if my saved histograms are good and drawing them\n",
    "f = rt.TFile.Open(f\"{OUTPUT_ROOT}/2025-06-23_histos.root\")\n",
    "\n",
    "stk = f.Get(\"h2_overlay\")\n",
    "\n",
    "c = f.Get(\"canvas_overlay\")\n",
    "\n",
    "stk.Draw(\"nostack\")\n",
    "c.Draw()\n",
    "\n",
    "# List the histos the stack holds:\n",
    "for h in stack.GetHists():   # GetHists() returns a TList of TH1*\n",
    "    print(h.GetName(), \"  entries:\", h.GetEntries())"
   ]
  },
  {
   "cell_type": "raw",
   "id": "61b6d683",
   "metadata": {
    "vscode": {
     "languageId": "raw"
    }
   },
   "source": [
    "# building a histogram stack and writing to the root file f_out points to\n",
    "\n",
    "stack = rt.THStack(\"h2_overlay\", \"Generalized harmonic means\")\n",
    "\n",
    "for proxy in hists.values():\n",
    "    stack.Add(proxy.GetPtr()) #pyroot stores a pointer in the dictionary, I need to pull that out\n",
    "    \n",
    "stack.Write()\n",
    "c.Write()"
   ]
  },
  {
   "cell_type": "raw",
   "id": "7da800da",
   "metadata": {
    "vscode": {
     "languageId": "raw"
    }
   },
   "source": [
    "#checking what branches you have in your TTree\n",
    "for branches in df_filtered.GetColumnNames():\n",
    "    print(branches)"
   ]
  },
  {
   "cell_type": "raw",
   "id": "beb0dbea",
   "metadata": {
    "vscode": {
     "languageId": "raw"
    }
   },
   "source": [
    "# converting a branch into a numpy array\n",
    "cluster = df.AsNumpy([\"cluster_DeDxStrip\"])[\"cluster_DeDxStrip\"]"
   ]
  },
  {
   "cell_type": "raw",
   "id": "ed837db0",
   "metadata": {
    "vscode": {
     "languageId": "raw"
    }
   },
   "source": [
    "\n",
    "# checking how the TTree arranges the data I need\n",
    "\n",
    "print(f\"number of events:{tree.GetEntries()}\\n\")\n",
    "\n",
    "count = 0\n",
    "for (i, event), (j, tracks) in zip(\n",
    "      enumerate(tree), \n",
    "      enumerate(cluster)\n",
    "    ):\n",
    "    if (len(tracks) > 5) and (count < 10):\n",
    "        avg = event.DeDx_IhStrip1\n",
    "        h1 = harmonic1_avg_M[i]\n",
    "        print(f\"Event ID{event.event} with {len(tracks)} tracks : \")\n",
    "        for i,track in enumerate(tracks):\n",
    "            hits = len(track)\n",
    "            print(f\"\\tTrack No.{i+1} with {hits} strip hits: {track}\\n Track's Harmonic1 average = {avg[i]} vs My calculated Harmonic1 average = {h1[i]}\\n\")\n",
    "        count += 1\n",
    "        if count == 5:\n",
    "            break\n",
    "    \n"
   ]
  },
  {
   "cell_type": "raw",
   "id": "bca2d8e0",
   "metadata": {
    "vscode": {
     "languageId": "raw"
    }
   },
   "source": [
    "TPad(const char* name,\n",
    "     const char* title,\n",
    "     Double_t xlow,  // left   edge  (0 = left of canvas, 1 = right)\n",
    "     Double_t ylow,  // bottom edge  (0 = bottom,       1 = top)\n",
    "     Double_t xup,   // right  edge\n",
    "     Double_t yup ); // top    edge\n"
   ]
  },
  {
   "cell_type": "raw",
   "id": "7a456564",
   "metadata": {},
   "source": []
  }
 ],
 "metadata": {
  "kernelspec": {
   "display_name": "Python 3",
   "language": "python",
   "name": "python3"
  },
  "language_info": {
   "codemirror_mode": {
    "name": "ipython",
    "version": 3
   },
   "file_extension": ".py",
   "mimetype": "text/x-python",
   "name": "python",
   "nbconvert_exporter": "python",
   "pygments_lexer": "ipython3",
   "version": "3.9.21"
  }
 },
 "nbformat": 4,
 "nbformat_minor": 5
}
