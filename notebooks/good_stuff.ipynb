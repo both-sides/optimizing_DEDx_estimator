{
 "cells": [
  {
   "cell_type": "raw",
   "id": "3fa9b7f0",
   "metadata": {
    "vscode": {
     "languageId": "raw"
    }
   },
   "source": [
    "# checking if my saved histograms are good and drawing them\n",
    "f = rt.TFile.Open(f\"{OUTPUT_ROOT}/2025-06-23_histos.root\")\n",
    "\n",
    "stk = f.Get(\"h2_overlay\")\n",
    "\n",
    "c = f.Get(\"canvas_overlay\")\n",
    "\n",
    "stk.Draw(\"nostack\")\n",
    "c.Draw()\n",
    "\n",
    "# List the histos the stack holds:\n",
    "for h in stack.GetHists():   # GetHists() returns a TList of TH1*\n",
    "    print(h.GetName(), \"  entries:\", h.GetEntries())"
   ]
  },
  {
   "cell_type": "raw",
   "id": "61b6d683",
   "metadata": {
    "vscode": {
     "languageId": "raw"
    }
   },
   "source": [
    "# building a histogram stack and writing to the root file f_out points to\n",
    "\n",
    "stack = rt.THStack(\"h2_overlay\", \"Generalized harmonic means\")\n",
    "\n",
    "for proxy in hists.values():\n",
    "    stack.Add(proxy.GetPtr()) #pyroot stores a pointer in the dictionary, I need to pull that out\n",
    "    \n",
    "stack.Write()\n",
    "c.Write()"
   ]
  },
  {
   "cell_type": "raw",
   "id": "7da800da",
   "metadata": {
    "vscode": {
     "languageId": "raw"
    }
   },
   "source": [
    "#checking what branches you have in your TTree\n",
    "for branches in df_filtered.GetColumnNames():\n",
    "    print(branches)"
   ]
  },
  {
   "cell_type": "raw",
   "id": "beb0dbea",
   "metadata": {
    "vscode": {
     "languageId": "raw"
    }
   },
   "source": [
    "# converting a branch into a numpy array\n",
    "cluster = df.AsNumpy([\"cluster_DeDxStrip\"])[\"cluster_DeDxStrip\"]"
   ]
  },
  {
   "cell_type": "raw",
   "id": "ed837db0",
   "metadata": {
    "vscode": {
     "languageId": "raw"
    }
   },
   "source": [
    "\n",
    "# checking how the TTree arranges the data I need\n",
    "\n",
    "print(f\"number of events:{tree.GetEntries()}\\n\")\n",
    "\n",
    "count = 0\n",
    "for (i, event), (j, tracks) in zip(\n",
    "      enumerate(tree), \n",
    "      enumerate(cluster)\n",
    "    ):\n",
    "    if (len(tracks) > 5) and (count < 10):\n",
    "        avg = event.DeDx_IhStrip1\n",
    "        h1 = harmonic1_avg_M[i]\n",
    "        print(f\"Event ID{event.event} with {len(tracks)} tracks : \")\n",
    "        for i,track in enumerate(tracks):\n",
    "            hits = len(track)\n",
    "            print(f\"\\tTrack No.{i+1} with {hits} strip hits: {track}\\n Track's Harmonic1 average = {avg[i]} vs My calculated Harmonic1 average = {h1[i]}\\n\")\n",
    "        count += 1\n",
    "        if count == 5:\n",
    "            break\n",
    "    \n"
   ]
  },
  {
   "cell_type": "raw",
   "id": "f832fc50",
   "metadata": {
    "vscode": {
     "languageId": "raw"
    }
   },
   "source": [
    "\n",
    "# checking how the TTree arranges the data I need\n",
    "\n",
    "print(f\"number of events:{tree.GetEntries()}\\n\")\n",
    "\n",
    "count = 0\n",
    "for (i, event), (j, tracks) in zip(\n",
    "      enumerate(tree), \n",
    "      enumerate(cluster)\n",
    "    ):\n",
    "    if tracks:\n",
    "        avg = event.DeDx_IhStrip\n",
    "        for i,track in enumerate(tracks):\n",
    "            hits = len(track)\n",
    "            thrshld = 22\n",
    "            if hits > thrshld:\n",
    "                print(f\"Event ID{event.event} with {len(tracks)} tracks\\n Showing only those with hits > {thrshld} : \")\n",
    "                print(f\"\\tTrack No.{i+1} with {hits} strip hits: {track}\\n Track's Harmonic average = {avg[i]}\\n\")\n",
    "        # count += 1\n",
    "        # if count == 100:\n",
    "        #     break\n",
    "    "
   ]
  },
  {
   "cell_type": "raw",
   "id": "bca2d8e0",
   "metadata": {
    "vscode": {
     "languageId": "raw"
    }
   },
   "source": [
    "TPad(const char* name,\n",
    "     const char* title,\n",
    "     Double_t xlow,  // left   edge  (0 = left of canvas, 1 = right)\n",
    "     Double_t ylow,  // bottom edge  (0 = bottom,       1 = top)\n",
    "     Double_t xup,   // right  edge\n",
    "     Double_t yup ); // top    edge\n"
   ]
  },
  {
   "cell_type": "raw",
   "id": "7a456564",
   "metadata": {
    "vscode": {
     "languageId": "raw"
    }
   },
   "source": [
    "target_event = 36263      \n",
    "target_hits  = 23         # track must have exactly 23 strip hits\n",
    "t = []\n",
    "# --- loop once over the tree ------------------------------------------------\n",
    "for evt in tree:                       # evt is the TTree reader object\n",
    "    if evt.event != target_event:      # adjust branch name if not 'event'\n",
    "        continue\n",
    "\n",
    "    # evt.cluster_DeDxStrip is a vector<vector<float>>\n",
    "    for idx, track in enumerate(evt.cluster_DeDxStrip):\n",
    "        if len(track) == target_hits:\n",
    "            t = track\n",
    "            print(f\"Event {target_event}  Track {idx+1}  \"\n",
    "                  f\"{len(track)} hits\\n{list(track)}\")\n",
    "            break     # found it, exit inner loop\n",
    "    break             # event found, exit outer loop\n",
    "\n",
    "print(t)"
   ]
  },
  {
   "cell_type": "raw",
   "id": "e9c582ff",
   "metadata": {
    "vscode": {
     "languageId": "raw"
    }
   },
   "source": [
    "\n",
    "  \n",
    "\n",
    "\n",
    "# def fit_mpv(cluster: list, threshold: int, max_hists: int, verbose=False):\n",
    "#   \"\"\"\n",
    "#   Loop over at most `max_hists` tracks with len(track)>threshold, fit a Landau,\n",
    "#   and return dict of:\n",
    "#     - corel   : list of (mpv, h2_mean)\n",
    "#     - params  : list of (mpv, sigma)\n",
    "#     - h2      : list of h2_mean\n",
    "#     - neg_mpvs: list of “Event X Trk Y” with mpv<=0\n",
    "#   \"\"\"\n",
    "  \n",
    "#   # ensuring that the DEDx_IhStrip branch is on\n",
    "#   tree.SetBranchStatus(\"DeDx_IhStrip\", 1)\n",
    "  \n",
    "#   # pre-allocate data containers\n",
    "#   corel_params   = []  # (mpv, h2_mean)\n",
    "#   params  = []  # (mpv, sigma)\n",
    "#   harmonic2_means= []\n",
    "#   neg_ids = []\n",
    "#   neg_tracks = []\n",
    "  \n",
    "#   # create one histogram & one TF1 and reuse them\n",
    "#   hist     = rt.TH1F(\"h\", \"tmp\",    1, 0, 1)     # binning/range will be reset\n",
    "#   f_landau= rt.TF1(\"f_landau\", \"landau\", 0, 1)\n",
    "  \n",
    "#   n_fits = 0\n",
    "#   logs   = []  # buffer for fit printouts\n",
    "  \n",
    "#   for event, tracks in zip(tree, cluster):\n",
    "#     for trk_idx, track in enumerate(tracks): \n",
    "#       if len(track) <= threshold:\n",
    "#         continue\n",
    "#       if n_fits >= max_hists:\n",
    "#         break\n",
    "      \n",
    "#       #using precalculated track's h2 means\n",
    "#       try:\n",
    "#         harmonic2 = event.DeDx_IhStrip[trk_idx]\n",
    "#       except (TypeError, IndexError):\n",
    "#           # if it's a single float per track, omit the index\n",
    "#         harmonic2 = event.DeDx_IhStrip\n",
    "      \n",
    "#       # Freedman–Diaconis binning\n",
    "#       nbins, lo, hi = utils.freedman_diaconis_bins(track)\n",
    "      \n",
    "#       # reset & reconfigure the one histogram\n",
    "#       hist.Reset()\n",
    "#       hist.SetBins(nbins, 0, hi)\n",
    "#       bw = hist.GetBinWidth(nbins)\n",
    "#       hist.GetYaxis().SetTitle(f\"Entries/{bw:.2f}\")\n",
    "      \n",
    "#       # filling and drawing the hists\n",
    "#       for hit in track:\n",
    "#           hist.Fill(hit)\n",
    "      \n",
    "#       mpv_guess, amp_guess, sigma_guess = utils.seeds(hist)\n",
    "      \n",
    "#       f_landau.SetRange(0, hi)\n",
    "#       f_landau.SetParameters(amp_guess, mpv_guess, sigma_guess) #seeding\n",
    "      \n",
    "#       # I'm trying to keep Minuit away from crazy regions\n",
    "#       f_landau.SetParLimits(1, lo, hi)         # MPV must stay inside data\n",
    "#       f_landau.SetParLimits(2, 0.05, lo - hi)  # σ positive, < full range\n",
    "      \n",
    "#       hist.Fit(f_landau, \"RQ\")\n",
    "#       n_fits += 1\n",
    "\n",
    "#       # extracting results\n",
    "#       f = hist.GetFunction(\"f_landau\")\n",
    "      \n",
    "#       if not f:  # fit might have failed\n",
    "#         continue\n",
    "      \n",
    "#       mpv = f.GetParameter(1)\n",
    "#       sigma = f.GetParameter(2)\n",
    "      \n",
    "#       corel_params.append((mpv, harmonic2))\n",
    "#       params.append((mpv, sigma))\n",
    "#       harmonic2_means.append(harmonic2)\n",
    "      \n",
    "#       if mpv <= 0:\n",
    "#         neg_ids.append(f\"Event {event.event} Trk {trk_idx}\") \n",
    "#         neg_tracks.append(track) # capture (the actual hits of these negative)tracks\n",
    "  \n",
    "#       if verbose:\n",
    "#           errs = [f.GetParError(i) for i in range(f.GetNpar())]\n",
    "#           logs.append(f\" fit#{n_fits-1}: mpv = {mpv:.3g}±{errs[1]:.3g}  sigma = {sigma:.3g}±{errs[2]:.3g} vs {harmonic2}\")\n",
    "   \n",
    "      \n",
    "      \n",
    "\n",
    "        \n",
    "#     if n_fits >= max_hists:\n",
    "#       break\n",
    "   \n",
    "#   if verbose and logs:\n",
    "#     print(\"\\n\".join(logs))\n",
    "            \n",
    "#   return {\n",
    "#     \"corel\":    corel_params,\n",
    "#     \"params\":   params,\n",
    "#     \"h2\":       harmonic2_means,\n",
    "#     \"neg_mpvs\": neg_ids,\n",
    "#     \"neg_tracks\": neg_tracks\n",
    "# }\n",
    "      "
   ]
  },
  {
   "cell_type": "raw",
   "id": "2080f533",
   "metadata": {},
   "source": []
  }
 ],
 "metadata": {
  "kernelspec": {
   "display_name": "DEDX Estimator (.venv)",
   "language": "python",
   "name": "dedx-env"
  },
  "language_info": {
   "codemirror_mode": {
    "name": "ipython",
    "version": 3
   },
   "file_extension": ".py",
   "mimetype": "text/x-python",
   "name": "python",
   "nbconvert_exporter": "python",
   "pygments_lexer": "ipython3",
   "version": "3.10.12"
  }
 },
 "nbformat": 4,
 "nbformat_minor": 5
}
