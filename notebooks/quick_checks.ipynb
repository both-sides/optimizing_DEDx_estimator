{
 "cells": [
  {
   "cell_type": "code",
   "execution_count": 1,
   "id": "85a5a4c1",
   "metadata": {},
   "outputs": [],
   "source": [
    "%reload_ext autoreload"
   ]
  },
  {
   "cell_type": "code",
   "execution_count": 2,
   "id": "736d998d",
   "metadata": {},
   "outputs": [],
   "source": [
    "!python ../src/utils.py"
   ]
  },
  {
   "cell_type": "code",
   "execution_count": 3,
   "id": "c33ae61f",
   "metadata": {},
   "outputs": [
    {
     "name": "stdout",
     "output_type": "stream",
     "text": [
      "cwd: /home/bothsides/projects/optimizing_DEDx_estimator/notebooks\n"
     ]
    }
   ],
   "source": [
    "import os\n",
    "import ROOT as rt\n",
    "import numpy as np\n",
    "import matplotlib.pyplot as plt\n",
    "import utils \n",
    "import math\n",
    "import array\n",
    "from ROOT import VecOps\n",
    "from analysis import (df, tree, df_filtered, COLOR_MAP)\n",
    "\n",
    "\n",
    "name_tag = str(utils.TAG)\n",
    "print(\"cwd:\", os.getcwd())"
   ]
  },
  {
   "cell_type": "code",
   "execution_count": 4,
   "id": "6e166e8f",
   "metadata": {},
   "outputs": [],
   "source": [
    "# f = rt.TFile(f\"{utils.OUTPUT_ROOT}/2025-06-23_histos.root\") #opens up the root file for reading\n",
    "\n",
    "# !rootls -t ../output/root/2025-06-23_histos.root"
   ]
  },
  {
   "cell_type": "code",
   "execution_count": 5,
   "id": "749931cb",
   "metadata": {},
   "outputs": [],
   "source": [
    "# h2_stack = f.Get(\"h2_overlay\")\n",
    "# c = f.Get(\"h2_canvas_overlay\")\n",
    "\n",
    "# h2_stack.Draw(\"nostack\")\n",
    "# c.Draw()"
   ]
  },
  {
   "cell_type": "code",
   "execution_count": 6,
   "id": "a7a0ce40",
   "metadata": {},
   "outputs": [],
   "source": [
    "# h2_stack = f.Get(\"h2_overlay\")\n",
    "# h2_canvas = f.Get(\"h2_canvas_overlay\")\n",
    "# h2_hist_list = h2_stack.GetHists()\n",
    "\n",
    "\n",
    "# h2_filtered_stack = f.Get(\"h2_filtered_overlay\")\n",
    "# h2_filtered_canvas = f.Get(\"h2_filtered_canvas_overlay\")\n",
    "# h2_filtered_hist_list = h2_filtered_stack.GetHists()\n",
    "\n",
    "\n",
    "# trunc_stack = f.Get(\"Trunc_overlay\")\n",
    "# trunc_canvas = f.Get(\"Trunc_overlay_canvas\")\n",
    "# trunc_hist_list = trunc_stack.GetHists()\n",
    "\n",
    "\n",
    "# trunc_filtered_stack = f.Get(\"Trunc_filtered_overlay\")\n",
    "# trunc_filtered_canvas = f.Get(\"Trunc_filtered_overlay_canvas\")\n",
    "# trunc_filtered_hist_list = trunc_filtered_stack.GetHists()"
   ]
  },
  {
   "cell_type": "code",
   "execution_count": 7,
   "id": "26129af8",
   "metadata": {},
   "outputs": [],
   "source": [
    "# h_num = h2_hist_list.At(0)\n",
    "# h_den = h2_hist_list.At(2)"
   ]
  },
  {
   "cell_type": "code",
   "execution_count": 8,
   "id": "75e1009c",
   "metadata": {},
   "outputs": [],
   "source": [
    "# print(type(h_num))"
   ]
  },
  {
   "cell_type": "code",
   "execution_count": 9,
   "id": "a783b7ad",
   "metadata": {},
   "outputs": [],
   "source": [
    "# %jsroot on\n",
    "# drawer = utils.HistogramDrawer()\n",
    "# rp = drawer.create_two_ratio(h_num, h_den)\n",
    "# c = drawer.draw_ratio(rp, canvas_name=\"ratio\", title=\"My Ratio\", logy = True)\n",
    "# c.Draw()\n"
   ]
  },
  {
   "cell_type": "code",
   "execution_count": 10,
   "id": "2bbea262",
   "metadata": {},
   "outputs": [
    {
     "name": "stdout",
     "output_type": "stream",
     "text": [
      "\u001b[1mTDirectoryFile  \u001b[0mJun 04 11:17 2025 HSCPFullAODAnalyzer;1 \"HSCPFullAODAnalyzer\" \n"
     ]
    }
   ],
   "source": [
    "!rootls -l ../data/HSCPgluino_M-1800_fromAOD.root"
   ]
  },
  {
   "cell_type": "code",
   "execution_count": 11,
   "id": "c5cf17c4",
   "metadata": {},
   "outputs": [
    {
     "name": "stdout",
     "output_type": "stream",
     "text": [
      "dE/dx hits for event 36083, track 1:\n",
      "  Hit 0: 2.691075325012207\n",
      "  Hit 1: 3.039337158203125\n",
      "  Hit 2: 3.007642984390259\n",
      "  Hit 3: 3.925776243209839\n",
      "  Hit 4: 3.292595624923706\n",
      "  Hit 5: 4.179045677185059\n",
      "  Hit 6: 2.8493521213531494\n",
      "  Hit 7: 5.730417728424072\n",
      "  Hit 8: 3.7041797637939453\n",
      "  Hit 9: 3.8941407203674316\n",
      "  Hit 10: 4.590634822845459\n",
      "  Hit 11: 2.6911017894744873\n",
      "  Hit 12: 2.9302709102630615\n",
      "  Hit 13: 2.6567635536193848\n",
      "  Hit 14: 3.02805757522583\n",
      "  Hit 15: 15.140792846679688\n",
      "  Hit 16: 3.1060287952423096\n"
     ]
    }
   ],
   "source": [
    "for event in tree:\n",
    "    if event.event == 36083:  # or tree.Event.event if using nested branches\n",
    "        dedx_list = event.cluster_DeDxStrip[1]\n",
    "        print(f\"dE/dx hits for event 36083, track 1:\")\n",
    "        for i, dedx in enumerate(dedx_list):\n",
    "            print(f\"  Hit {i}: {dedx}\")\n",
    "        break"
   ]
  },
  {
   "cell_type": "code",
   "execution_count": 12,
   "id": "480cc051",
   "metadata": {},
   "outputs": [
    {
     "name": "stdout",
     "output_type": "stream",
     "text": [
      "****************************************\n",
      "Minimizer is Minuit2 / Migrad\n",
      "Chi2                      =      1.36826\n",
      "NDf                       =            3\n",
      "Edm                       =  7.61033e-07\n",
      "NCalls                    =          211\n",
      "Constant                  =      45.3787   +/-   22.6781     \n",
      "MPV                       =      3.02005   +/-   0.197487    \n",
      "Sigma                     =     0.324966   +/-   0.138827     \t (limited)\n"
     ]
    },
    {
     "data": {
      "image/png": "[encoded data removed]",
      "text/plain": [
       "<IPython.core.display.Image object>"
      ]
     },
     "metadata": {},
     "output_type": "display_data"
    }
   ],
   "source": [
    "nbins, lo, hi = utils.freedman_diaconis_bins(dedx_list)\n",
    "\n",
    "hist = rt.TH1F(\"h_dedx\",\"Evt 36083, Trk 1;dE/dx (MeV/cm);Entries\", \n",
    "              nbins,    # # bins\n",
    "              lo,   # x-min\n",
    "              hi  # x-max\n",
    "              )\n",
    "for dedx in dedx_list:\n",
    "    hist.Fill(dedx)\n",
    "\n",
    "c = rt.TCanvas(\"c_dedx\", \"dE/dx Hits for Event 36083, Track 1\", 800, 600)\n",
    "rt.gStyle.SetOptStat(\"nersk\")\n",
    "hist.SetMaximum(hist.GetMaximum() * 1.2)\n",
    "hist.Draw(\"hist\")\n",
    "mpv_guess, amp_guess, sigma_guess = utils.seeds(hist)\n",
    "                \n",
    "\n",
    "\n",
    "landau = rt.TF1(\"landau\", \"landau\", 0, hi)\n",
    "landau.SetLineColor(rt.kRed)\n",
    "\n",
    "\n",
    "landau.SetParameters(amp_guess, mpv_guess, sigma_guess)\n",
    "\n",
    "hist.Fit(landau, \"R\")\n",
    "landau.Draw(\"same\")\n",
    "\n",
    "c.Update()"
   ]
  },
  {
   "cell_type": "code",
   "execution_count": 13,
   "id": "10cdd893",
   "metadata": {},
   "outputs": [
    {
     "name": "stdout",
     "output_type": "stream",
     "text": [
      "dE/dx hits for event 36099, track 1:\n",
      "  Hit 0: 3.246649980545044\n",
      "  Hit 1: 6.884998321533203\n",
      "  Hit 2: 4.100213050842285\n",
      "  Hit 3: 3.358581781387329\n",
      "  Hit 4: 3.8791840076446533\n",
      "  Hit 5: 3.7598276138305664\n",
      "  Hit 6: 2.7155048847198486\n",
      "  Hit 7: 3.295717716217041\n",
      "  Hit 8: 4.032230377197266\n",
      "  Hit 9: 5.560455799102783\n",
      "  Hit 10: 3.2773280143737793\n",
      "  Hit 11: 2.3934619426727295\n",
      "  Hit 12: 2.669706106185913\n",
      "  Hit 13: 3.424485445022583\n",
      "  Hit 14: 3.4612908363342285\n"
     ]
    }
   ],
   "source": [
    "for event in tree:\n",
    "    if event.event == 36099:  # or tree.Event.event if using nested branches\n",
    "        dedx_list = event.cluster_DeDxStrip[1]\n",
    "        print(f\"dE/dx hits for event 36099, track 1:\")\n",
    "        for i, dedx in enumerate(dedx_list):\n",
    "            print(f\"  Hit {i}: {dedx}\")\n",
    "        break"
   ]
  },
  {
   "cell_type": "code",
   "execution_count": 14,
   "id": "79d7c346",
   "metadata": {},
   "outputs": [
    {
     "name": "stdout",
     "output_type": "stream",
     "text": [
      "****************************************\n",
      "Minimizer is Minuit2 / Migrad\n",
      "Chi2                      =     0.342255\n",
      "NDf                       =            3\n",
      "Edm                       =  1.36502e-06\n",
      "NCalls                    =          122\n",
      "Constant                  =      22.9371   +/-   9.49094     \n",
      "MPV                       =      3.17445   +/-   0.365493    \n",
      "Sigma                     =     0.568375   +/-   0.333952     \t (limited)\n"
     ]
    },
    {
     "name": "stderr",
     "output_type": "stream",
     "text": [
      "Warning in <TFile::Append>: Replacing existing TH1: h_dedx (Potential memory leak).\n",
      "Warning in <TCanvas::Constructor>: Deleting canvas with same name: c_dedx\n"
     ]
    },
    {
     "data": {
      "image/png": "[encoded data removed]",
      "text/plain": [
       "<IPython.core.display.Image object>"
      ]
     },
     "metadata": {},
     "output_type": "display_data"
    }
   ],
   "source": [
    "nbins, lo, hi = utils.freedman_diaconis_bins(dedx_list)\n",
    "\n",
    "hist = rt.TH1F(\"h_dedx\",\"Evt 36099, Trk 1;dE/dx (MeV/cm);Entries\", \n",
    "              nbins,    # # bins\n",
    "              lo,   # x-min\n",
    "              hi  # x-max\n",
    "              )\n",
    "for dedx in dedx_list:\n",
    "    hist.Fill(dedx)\n",
    "\n",
    "c = rt.TCanvas(\"c_dedx\", \"dE/dx Hits for Event 36099, Track 1\", 800, 600)\n",
    "rt.gStyle.SetOptStat(\"nersk\")\n",
    "hist.SetMaximum(hist.GetMaximum() * 1.2)\n",
    "hist.Draw(\"hist\")\n",
    "mpv_guess, amp_guess, sigma_guess = utils.seeds(hist)\n",
    "                \n",
    "\n",
    "\n",
    "landau = rt.TF1(\"landau\", \"landau\", 0, hi)\n",
    "landau.SetLineColor(rt.kRed)\n",
    "\n",
    "\n",
    "landau.SetParameters(amp_guess, mpv_guess, sigma_guess)\n",
    "\n",
    "hist.Fit(landau, \"R\")\n",
    "landau.Draw(\"same\")\n",
    "\n",
    "c.Update()"
   ]
  },
  {
   "cell_type": "code",
   "execution_count": 15,
   "id": "ae1726c4",
   "metadata": {},
   "outputs": [
    {
     "name": "stdout",
     "output_type": "stream",
     "text": [
      "Landau MPV: 3.1744481339112127, Sigma: 0.5683749084053655\n"
     ]
    }
   ],
   "source": [
    "landau_mpv = landau.GetParameter(1)\n",
    "landau_sigma = landau.GetParameter(2)\n",
    "\n",
    "print(f\"Landau MPV: {landau_mpv}, Sigma: {landau_sigma}\")"
   ]
  },
  {
   "cell_type": "code",
   "execution_count": 16,
   "id": "fed03ebe",
   "metadata": {},
   "outputs": [
    {
     "name": "stdout",
     "output_type": "stream",
     "text": [
      "Branch `DeDx_FiPixel` → Leaf `DeDx_FiPixel` : vector<float>\n",
      "Branch `DeDx_FiPixelNoL1` → Leaf `DeDx_FiPixelNoL1` : vector<float>\n",
      "Branch `DeDx_Gi` → Leaf `DeDx_Gi` : vector<float>\n",
      "Branch `DeDx_GiStrip` → Leaf `DeDx_GiStrip` : vector<float>\n",
      "Branch `DeDx_Ih` → Leaf `DeDx_Ih` : vector<float>\n",
      "Branch `DeDx_IhNOM` → Leaf `DeDx_IhNOM` : vector<unsigned int>\n",
      "Branch `DeDx_IhNoL1` → Leaf `DeDx_IhNoL1` : vector<float>\n",
      "Branch `DeDx_IhNoL1NOM` → Leaf `DeDx_IhNoL1NOM` : vector<unsigned int>\n",
      "Branch `DeDx_IhPixel` → Leaf `DeDx_IhPixel` : vector<float>\n",
      "Branch `DeDx_IhPixelNoL1` → Leaf `DeDx_IhPixelNoL1` : vector<float>\n",
      "Branch `DeDx_IhStrip` → Leaf `DeDx_IhStrip` : vector<float>\n",
      "Branch `DeDx_IhStrip1` → Leaf `DeDx_IhStrip1` : vector<float>\n",
      "Branch `DeDx_IhStrip3` → Leaf `DeDx_IhStrip3` : vector<float>\n",
      "Branch `DeDx_IhStrip4` → Leaf `DeDx_IhStrip4` : vector<float>\n",
      "Branch `DeDx_It` → Leaf `DeDx_It` : vector<float>\n",
      "Branch `DeDx_ItStrip` → Leaf `DeDx_ItStrip` : vector<float>\n",
      "Branch `DeDx_ItStrip0` → Leaf `DeDx_ItStrip0` : vector<float>\n",
      "Branch `DeDx_ItStrip10` → Leaf `DeDx_ItStrip10` : vector<float>\n",
      "Branch `DeDx_ItStrip15` → Leaf `DeDx_ItStrip15` : vector<float>\n",
      "Branch `DeDx_ItStrip20` → Leaf `DeDx_ItStrip20` : vector<float>\n",
      "Branch `DeDx_ItStrip25` → Leaf `DeDx_ItStrip25` : vector<float>\n",
      "Branch `DeDx_ItStrip30` → Leaf `DeDx_ItStrip30` : vector<float>\n",
      "Branch `DeDx_ItStrip35` → Leaf `DeDx_ItStrip35` : vector<float>\n",
      "Branch `DeDx_ItStrip5` → Leaf `DeDx_ItStrip5` : vector<float>\n",
      "Branch `DeDx_NoL1NOM` → Leaf `DeDx_NoL1NOM` : vector<unsigned int>\n",
      "Branch `DeDx_PixelNoL1NOM` → Leaf `DeDx_PixelNoL1NOM` : vector<unsigned int>\n",
      "Branch `Flag_BadPFMuonDzFilter` → Leaf `Flag_BadPFMuonDzFilter` : Bool_t\n",
      "Branch `Flag_BadPFMuonFilter` → Leaf `Flag_BadPFMuonFilter` : Bool_t\n",
      "Branch `Flag_EcalDeadCellTriggerPrimitiveFilter` → Leaf `Flag_EcalDeadCellTriggerPrimitiveFilter` : Bool_t\n",
      "Branch `Flag_HBHENoiseFilter` → Leaf `Flag_HBHENoiseFilter` : Bool_t\n",
      "Branch `Flag_HBHENoiseIsoFilter` → Leaf `Flag_HBHENoiseIsoFilter` : Bool_t\n",
      "Branch `Flag_allMETFilters` → Leaf `Flag_allMETFilters` : Bool_t\n",
      "Branch `Flag_ecalBadCalibFilter` → Leaf `Flag_ecalBadCalibFilter` : Bool_t\n",
      "Branch `Flag_eeBadScFilter` → Leaf `Flag_eeBadScFilter` : Bool_t\n",
      "Branch `Flag_globalSuperTightHalo2016Filter` → Leaf `Flag_globalSuperTightHalo2016Filter` : Bool_t\n",
      "Branch `Flag_hfNoisyHitsFilter` → Leaf `Flag_hfNoisyHitsFilter` : Bool_t\n",
      "Branch `GenPart_beta` → Leaf `GenPart_beta` : vector<double>\n",
      "Branch `GenPart_charge` → Leaf `GenPart_charge` : vector<int>\n",
      "Branch `GenPart_digluino_pt` → Leaf `GenPart_digluino_pt` : Double_t\n",
      "Branch `GenPart_energy` → Leaf `GenPart_energy` : vector<double>\n",
      "Branch `GenPart_eta` → Leaf `GenPart_eta` : vector<double>\n",
      "Branch `GenPart_gluino_n` → Leaf `GenPart_gluino_n` : UInt_t\n",
      "Branch `GenPart_mass` → Leaf `GenPart_mass` : vector<double>\n",
      "Branch `GenPart_p` → Leaf `GenPart_p` : vector<double>\n",
      "Branch `GenPart_pdgId` → Leaf `GenPart_pdgId` : vector<int>\n",
      "Branch `GenPart_phi` → Leaf `GenPart_phi` : vector<double>\n",
      "Branch `GenPart_pt` → Leaf `GenPart_pt` : vector<double>\n",
      "Branch `GenPart_status` → Leaf `GenPart_status` : vector<int>\n",
      "Branch `HLTCaloMET` → Leaf `HLTCaloMET` : Float_t\n",
      "Branch `HLTCaloMETClean` → Leaf `HLTCaloMETClean` : Float_t\n",
      "Branch `HLTCaloMETClean_phi` → Leaf `HLTCaloMETClean_phi` : Float_t\n",
      "Branch `HLTCaloMETClean_sigf` → Leaf `HLTCaloMETClean_sigf` : Float_t\n",
      "Branch `HLTCaloMET_phi` → Leaf `HLTCaloMET_phi` : Float_t\n",
      "Branch `HLTCaloMET_sigf` → Leaf `HLTCaloMET_sigf` : Float_t\n",
      "Branch `HLTCaloMHT` → Leaf `HLTCaloMHT` : Float_t\n",
      "Branch `HLTCaloMHT_phi` → Leaf `HLTCaloMHT_phi` : Float_t\n",
      "Branch `HLTCaloMHT_sigf` → Leaf `HLTCaloMHT_sigf` : Float_t\n",
      "Branch `HLTPFMET` → Leaf `HLTPFMET` : Float_t\n",
      "Branch `HLTPFMET_phi` → Leaf `HLTPFMET_phi` : Float_t\n",
      "Branch `HLTPFMET_sigf` → Leaf `HLTPFMET_sigf` : Float_t\n",
      "Branch `HLTPFMHT` → Leaf `HLTPFMHT` : Float_t\n",
      "Branch `HLTPFMHT_phi` → Leaf `HLTPFMHT_phi` : Float_t\n",
      "Branch `HLTPFMHT_sigf` → Leaf `HLTPFMHT_sigf` : Float_t\n",
      "Branch `HLT_FilterOR` → Leaf `HLT_FilterOR` : Bool_t\n",
      "Branch `HLT_Mu50` → Leaf `HLT_Mu50` : Bool_t\n",
      "Branch `HSCP_hasDeDx` → Leaf `HSCP_hasDeDx` : vector<bool>\n",
      "Branch `HSCP_hasMuon` → Leaf `HSCP_hasMuon` : vector<bool>\n",
      "Branch `HSCP_hasTrack` → Leaf `HSCP_hasTrack` : vector<bool>\n",
      "Branch `HSCP_n` → Leaf `HSCP_n` : UInt_t\n",
      "Branch `HSCP_type` → Leaf `HSCP_type` : vector<int>\n",
      "Branch `IsoTrack_charge` → Leaf `IsoTrack_charge` : vector<int>\n",
      "Branch `IsoTrack_dxy` → Leaf `IsoTrack_dxy` : vector<double>\n",
      "Branch `IsoTrack_dxyError` → Leaf `IsoTrack_dxyError` : vector<double>\n",
      "Branch `IsoTrack_dz` → Leaf `IsoTrack_dz` : vector<double>\n",
      "Branch `IsoTrack_dzError` → Leaf `IsoTrack_dzError` : vector<double>\n",
      "Branch `IsoTrack_eta` → Leaf `IsoTrack_eta` : vector<double>\n",
      "Branch `IsoTrack_fractionOfValidHits` → Leaf `IsoTrack_fractionOfValidHits` : vector<double>\n",
      "Branch `IsoTrack_isHighPurityTrack` → Leaf `IsoTrack_isHighPurityTrack` : vector<bool>\n",
      "Branch `IsoTrack_isPFcnad` → Leaf `IsoTrack_isPFcnad` : vector<bool>\n",
      "Branch `IsoTrack_miniRelIso` → Leaf `IsoTrack_miniRelIso` : vector<float>\n",
      "Branch `IsoTrack_normChi2` → Leaf `IsoTrack_normChi2` : vector<double>\n",
      "Branch `IsoTrack_numberOfTrackerLayers` → Leaf `IsoTrack_numberOfTrackerLayers` : vector<int>\n",
      "Branch `IsoTrack_numberOfValidHits` → Leaf `IsoTrack_numberOfValidHits` : vector<int>\n",
      "Branch `IsoTrack_numberOfValidPixelHits` → Leaf `IsoTrack_numberOfValidPixelHits` : vector<int>\n",
      "Branch `IsoTrack_p` → Leaf `IsoTrack_p` : vector<double>\n",
      "Branch `IsoTrack_pfEcalEnergy` → Leaf `IsoTrack_pfEcalEnergy` : vector<float>\n",
      "Branch `IsoTrack_pfEnergyOverP` → Leaf `IsoTrack_pfEnergyOverP` : vector<double>\n",
      "Branch `IsoTrack_pfHcalEnergy` → Leaf `IsoTrack_pfHcalEnergy` : vector<float>\n",
      "Branch `IsoTrack_pfMiniRelIsoAll` → Leaf `IsoTrack_pfMiniRelIsoAll` : vector<float>\n",
      "Branch `IsoTrack_pfMiniRelIsoChg` → Leaf `IsoTrack_pfMiniRelIsoChg` : vector<float>\n",
      "Branch `IsoTrack_phi` → Leaf `IsoTrack_phi` : vector<double>\n",
      "Branch `IsoTrack_pt` → Leaf `IsoTrack_pt` : vector<double>\n",
      "Branch `IsoTrack_ptErrOverPt` → Leaf `IsoTrack_ptErrOverPt` : vector<double>\n",
      "Branch `IsoTrack_ptErrOverPt2` → Leaf `IsoTrack_ptErrOverPt2` : vector<double>\n",
      "Branch `IsoTrack_ptError` → Leaf `IsoTrack_ptError` : vector<double>\n",
      "Branch `IsoTrack_px` → Leaf `IsoTrack_px` : vector<double>\n",
      "Branch `IsoTrack_py` → Leaf `IsoTrack_py` : vector<double>\n",
      "Branch `IsoTrack_pz` → Leaf `IsoTrack_pz` : vector<double>\n",
      "Branch `L1ETSum` → Leaf `L1ETSum` : Double_t\n",
      "Branch `L1HTSum` → Leaf `L1HTSum` : Double_t\n",
      "Branch `L1MET` → Leaf `L1MET` : Double_t\n",
      "Branch `L1METHF` → Leaf `L1METHF` : Double_t\n",
      "Branch `L1METHF_phi` → Leaf `L1METHF_phi` : Double_t\n",
      "Branch `L1MET_phi` → Leaf `L1MET_phi` : Double_t\n",
      "Branch `L1MHT` → Leaf `L1MHT` : Double_t\n",
      "Branch `L1MHT_phi` → Leaf `L1MHT_phi` : Double_t\n",
      "Branch `Muon_combRelIsoPF03dBeta` → Leaf `Muon_combRelIsoPF03dBeta` : vector<float>\n",
      "Branch `Muon_eta` → Leaf `Muon_eta` : vector<double>\n",
      "Branch `Muon_isGlobal` → Leaf `Muon_isGlobal` : vector<bool>\n",
      "Branch `Muon_isPFcand` → Leaf `Muon_isPFcand` : vector<bool>\n",
      "Branch `Muon_isStandAlone` → Leaf `Muon_isStandAlone` : vector<bool>\n",
      "Branch `Muon_isTracker` → Leaf `Muon_isTracker` : vector<bool>\n",
      "Branch `Muon_pfIso03_sumPU` → Leaf `Muon_pfIso03_sumPU` : vector<float>\n",
      "Branch `Muon_pfIso04_charged` → Leaf `Muon_pfIso04_charged` : vector<float>\n",
      "Branch `Muon_pfIso04_neutral` → Leaf `Muon_pfIso04_neutral` : vector<float>\n",
      "Branch `Muon_pfIso04_photon` → Leaf `Muon_pfIso04_photon` : vector<float>\n",
      "Branch `Muon_phi` → Leaf `Muon_phi` : vector<double>\n",
      "Branch `Muon_pt` → Leaf `Muon_pt` : vector<double>\n",
      "Branch `Muon_time_inverseBeta` → Leaf `Muon_time_inverseBeta` : vector<float>\n",
      "Branch `Muon_time_inverseBetaErr` → Leaf `Muon_time_inverseBetaErr` : vector<float>\n",
      "Branch `Muon_time_nDof` → Leaf `Muon_time_nDof` : vector<int>\n",
      "Branch `Muon_timecsc_inverseBeta` → Leaf `Muon_timecsc_inverseBeta` : vector<float>\n",
      "Branch `Muon_timecsc_inverseBetaErr` → Leaf `Muon_timecsc_inverseBetaErr` : vector<float>\n",
      "Branch `Muon_timecsc_nDof` → Leaf `Muon_timecsc_nDof` : vector<int>\n",
      "Branch `Muon_timedt_inverseBeta` → Leaf `Muon_timedt_inverseBeta` : vector<float>\n",
      "Branch `Muon_timedt_inverseBetaErr` → Leaf `Muon_timedt_inverseBetaErr` : vector<float>\n",
      "Branch `Muon_timedt_nDof` → Leaf `Muon_timedt_nDof` : vector<int>\n",
      "Branch `PV_ndof` → Leaf `PV_ndof` : vector<double>\n",
      "Branch `PV_npvsGood` → Leaf `PV_npvsGood` : UInt_t\n",
      "Branch `PV_rho` → Leaf `PV_rho` : vector<double>\n",
      "Branch `PV_x` → Leaf `PV_x` : vector<double>\n",
      "Branch `PV_y` → Leaf `PV_y` : vector<double>\n",
      "Branch `PV_z` → Leaf `PV_z` : vector<double>\n",
      "Branch `RecoCaloMET` → Leaf `RecoCaloMET` : Double_t\n",
      "Branch `RecoCaloMET_phi` → Leaf `RecoCaloMET_phi` : Double_t\n",
      "Branch `RecoCaloMET_sigf` → Leaf `RecoCaloMET_sigf` : Double_t\n",
      "Branch `RecoPFMET` → Leaf `RecoPFMET` : Double_t\n",
      "Branch `RecoPFMET_phi` → Leaf `RecoPFMET_phi` : Double_t\n",
      "Branch `RecoPFMET_sigf` → Leaf `RecoPFMET_sigf` : Double_t\n",
      "Branch `bunchCrossing` → Leaf `bunchCrossing` : UInt_t\n",
      "Branch `cluster_Charge` → Leaf `cluster_Charge` : vector<vector<float> >\n",
      "Branch `cluster_DeDxStrip` → Leaf `cluster_DeDxStrip` : vector<vector<float> >\n",
      "Branch `cluster_DetId` → Leaf `cluster_DetId` : vector<vector<unsigned int> >\n",
      "Branch `cluster_SaturatingStrips` → Leaf `cluster_SaturatingStrips` : vector<vector<unsigned int> >\n",
      "Branch `event` → Leaf `event` : ULong64_t\n",
      "Branch `isData` → Leaf `isData` : Bool_t\n",
      "Branch `luminosityBlock` → Leaf `luminosityBlock` : UInt_t\n",
      "Branch `nIsoTrack` → Leaf `nIsoTrack` : UInt_t\n",
      "Branch `nMuon` → Leaf `nMuon` : UInt_t\n",
      "Branch `run` → Leaf `run` : UInt_t\n",
      "Branch `weight_generator` → Leaf `weight_generator` : Double_t\n",
      "Branch `weight_generatorBinningValues` → Leaf `weight_generatorBinningValues` : Double_t\n"
     ]
    }
   ],
   "source": [
    "for branch in tree.GetListOfBranches():\n",
    "    for leaf in branch.GetListOfLeaves():\n",
    "        print(f\"Branch `{branch.GetName()}` → Leaf `{leaf.GetName()}` : {leaf.GetTypeName()}\")"
   ]
  },
  {
   "cell_type": "code",
   "execution_count": 17,
   "id": "9c14a05b",
   "metadata": {},
   "outputs": [
    {
     "name": "stdout",
     "output_type": "stream",
     "text": [
      "Branch `DeDx_PixelNoL1NOM` → leaf types: ['vector<unsigned int>']\n",
      "Branch `IsoTrack_pt` → leaf types: ['vector<double>']\n",
      "Branch `HLT_Mu50` → leaf types: ['Bool_t']\n",
      "Branch `IsoTrack_fractionOfValidHits` → leaf types: ['vector<double>']\n",
      "Branch `IsoTrack_isHighPurityTrack` → leaf types: ['vector<bool>']\n",
      "Branch `IsoTrack_normChi2` → leaf types: ['vector<double>']\n",
      "Branch `IsoTrack_dxy` → leaf types: ['vector<double>']\n",
      "Branch `IsoTrack_dz` → leaf types: ['vector<double>']\n",
      "Branch `IsoTrack_numberOfValidHits` → leaf types: ['vector<int>']\n"
     ]
    }
   ],
   "source": [
    "branches = [\n",
    "    \"DeDx_PixelNoL1NOM\",\n",
    "    \"IsoTrack_pt\",\n",
    "    \"HLT_Mu50\",\n",
    "    \"IsoTrack_fractionOfValidHits\",             \n",
    "    \"IsoTrack_isHighPurityTrack\",\n",
    "    \"IsoTrack_normChi2\",\n",
    "    \"IsoTrack_dxy\",\n",
    "    \"IsoTrack_dz\",\n",
    "    \"IsoTrack_numberOfValidHits\"\n",
    "]\n",
    "\n",
    "\n",
    "for bname in branches:\n",
    "    br = tree.GetBranch(bname)\n",
    "    if not br:\n",
    "        print(f\"⚠️  Branch `{bname}` not found in tree.\")\n",
    "        continue\n",
    "\n",
    "    # every leaf has a type name; most branches have one leaf\n",
    "    leaves = list(br.GetListOfLeaves())\n",
    "    types  = [leaf.GetTypeName() for leaf in leaves]\n",
    "    print(f\"Branch `{bname}` → leaf types: {types}\")"
   ]
  },
  {
   "cell_type": "code",
   "execution_count": null,
   "id": "29a74b96",
   "metadata": {},
   "outputs": [],
   "source": []
  }
 ],
 "metadata": {
  "kernelspec": {
   "display_name": "PyROOT+ROOT (.venv)",
   "language": "python",
   "name": "pyroot-root"
  },
  "language_info": {
   "codemirror_mode": {
    "name": "ipython",
    "version": 3
   },
   "file_extension": ".py",
   "mimetype": "text/x-python",
   "name": "python",
   "nbconvert_exporter": "python",
   "pygments_lexer": "ipython3",
   "version": "3.12.3"
  }
 },
 "nbformat": 4,
 "nbformat_minor": 5
}
