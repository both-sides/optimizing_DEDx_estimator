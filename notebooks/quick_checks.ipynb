{
 "cells": [
  {
   "cell_type": "code",
   "execution_count": null,
   "id": "85a5a4c1",
   "metadata": {},
   "outputs": [],
   "source": [
    "%reload_ext autoreload"
   ]
  },
  {
   "cell_type": "code",
   "execution_count": 4,
   "id": "736d998d",
   "metadata": {},
   "outputs": [
    {
     "name": "stdout",
     "output_type": "stream",
     "text": [
      "Events after full selection: 558\n",
      "Events after full selection: 6740\n"
     ]
    }
   ],
   "source": [
    "!python ../src/utils.py"
   ]
  },
  {
   "cell_type": "code",
   "execution_count": 5,
   "id": "c33ae61f",
   "metadata": {},
   "outputs": [
    {
     "name": "stdout",
     "output_type": "stream",
     "text": [
      "Events after full selection: 558\n",
      "Events after full selection: 6740\n",
      "cwd: /home/bothsides/projects/optimizing_DEDx_estimator/notebooks\n"
     ]
    }
   ],
   "source": [
    "import os\n",
    "import ROOT as rt\n",
    "import numpy as np\n",
    "import matplotlib.pyplot as plt\n",
    "import utils \n",
    "import math\n",
    "import array\n",
    "from ROOT import VecOps\n",
    "from analysis import (df, tree, df_filtered, df_filtered_all, COLOR_MAP)\n",
    "\n",
    "\n",
    "name_tag = str(utils.TAG)\n",
    "print(\"cwd:\", os.getcwd())"
   ]
  },
  {
   "cell_type": "code",
   "execution_count": 6,
   "id": "6e166e8f",
   "metadata": {},
   "outputs": [],
   "source": [
    "# f = rt.TFile(f\"{utils.OUTPUT_ROOT}/2025-06-23_histos.root\") #opens up the root file for reading\n",
    "\n",
    "# !rootls -t ../output/root/2025-06-23_histos.root"
   ]
  },
  {
   "cell_type": "code",
   "execution_count": 7,
   "id": "749931cb",
   "metadata": {},
   "outputs": [],
   "source": [
    "# h2_stack = f.Get(\"h2_overlay\")\n",
    "# c = f.Get(\"h2_canvas_overlay\")\n",
    "\n",
    "# h2_stack.Draw(\"nostack\")\n",
    "# c.Draw()"
   ]
  },
  {
   "cell_type": "code",
   "execution_count": 8,
   "id": "a7a0ce40",
   "metadata": {},
   "outputs": [],
   "source": [
    "# h2_stack = f.Get(\"h2_overlay\")\n",
    "# h2_canvas = f.Get(\"h2_canvas_overlay\")\n",
    "# h2_hist_list = h2_stack.GetHists()\n",
    "\n",
    "\n",
    "# h2_filtered_stack = f.Get(\"h2_filtered_overlay\")\n",
    "# h2_filtered_canvas = f.Get(\"h2_filtered_canvas_overlay\")\n",
    "# h2_filtered_hist_list = h2_filtered_stack.GetHists()\n",
    "\n",
    "\n",
    "# trunc_stack = f.Get(\"Trunc_overlay\")\n",
    "# trunc_canvas = f.Get(\"Trunc_overlay_canvas\")\n",
    "# trunc_hist_list = trunc_stack.GetHists()\n",
    "\n",
    "\n",
    "# trunc_filtered_stack = f.Get(\"Trunc_filtered_overlay\")\n",
    "# trunc_filtered_canvas = f.Get(\"Trunc_filtered_overlay_canvas\")\n",
    "# trunc_filtered_hist_list = trunc_filtered_stack.GetHists()"
   ]
  },
  {
   "cell_type": "code",
   "execution_count": 9,
   "id": "26129af8",
   "metadata": {},
   "outputs": [],
   "source": [
    "# h_num = h2_hist_list.At(0)\n",
    "# h_den = h2_hist_list.At(2)"
   ]
  },
  {
   "cell_type": "code",
   "execution_count": 10,
   "id": "75e1009c",
   "metadata": {},
   "outputs": [],
   "source": [
    "# print(type(h_num))"
   ]
  },
  {
   "cell_type": "code",
   "execution_count": 11,
   "id": "a783b7ad",
   "metadata": {},
   "outputs": [],
   "source": [
    "# %jsroot on\n",
    "# drawer = utils.HistogramDrawer()\n",
    "# rp = drawer.create_two_ratio(h_num, h_den)\n",
    "# c = drawer.draw_ratio(rp, canvas_name=\"ratio\", title=\"My Ratio\", logy = True)\n",
    "# c.Draw()\n"
   ]
  },
  {
   "cell_type": "code",
   "execution_count": 12,
   "id": "2bbea262",
   "metadata": {},
   "outputs": [
    {
     "name": "stdout",
     "output_type": "stream",
     "text": [
      "\u001b[1mTDirectoryFile  \u001b[0mJun 04 11:17 2025 HSCPFullAODAnalyzer;1 \"HSCPFullAODAnalyzer\" \n"
     ]
    }
   ],
   "source": [
    "!rootls -l ../data/HSCPgluino_M-1800_fromAOD.root"
   ]
  },
  {
   "cell_type": "raw",
   "id": "c5cf17c4",
   "metadata": {
    "vscode": {
     "languageId": "raw"
    }
   },
   "source": [
    "for event in tree:\n",
    "    if event.event == 36083:  # or tree.Event.event if using nested branches\n",
    "        dedx_list = event.cluster_DeDxStrip[1]\n",
    "        print(f\"dE/dx hits for event 36083, track 1:\")\n",
    "        for i, dedx in enumerate(dedx_list):\n",
    "            print(f\"  Hit {i}: {dedx}\")\n",
    "        break"
   ]
  },
  {
   "cell_type": "raw",
   "id": "480cc051",
   "metadata": {
    "vscode": {
     "languageId": "raw"
    }
   },
   "source": [
    "nbins, lo, hi = utils.freedman_diaconis_bins(dedx_list)\n",
    "\n",
    "hist = rt.TH1F(\"h_dedx\",\"Evt 36083, Trk 1;dE/dx (MeV/cm);Entries\", \n",
    "              nbins,    # # bins\n",
    "              lo,   # x-min\n",
    "              hi  # x-max\n",
    "              )\n",
    "for dedx in dedx_list:\n",
    "    hist.Fill(dedx)\n",
    "\n",
    "c = rt.TCanvas(\"c_dedx\", \"dE/dx Hits for Event 36083, Track 1\", 800, 600)\n",
    "rt.gStyle.SetOptStat(\"nersk\")\n",
    "hist.SetMaximum(hist.GetMaximum() * 1.2)\n",
    "hist.Draw(\"hist\")\n",
    "mpv_guess, amp_guess, sigma_guess = utils.seeds(hist)\n",
    "                \n",
    "\n",
    "\n",
    "landau = rt.TF1(\"landau\", \"landau\", 0, hi)\n",
    "landau.SetLineColor(rt.kRed)\n",
    "\n",
    "\n",
    "landau.SetParameters(amp_guess, mpv_guess, sigma_guess)\n",
    "\n",
    "hist.Fit(landau, \"R\")\n",
    "landau.Draw(\"same\")\n",
    "\n",
    "c.Update()"
   ]
  },
  {
   "cell_type": "raw",
   "id": "10cdd893",
   "metadata": {
    "vscode": {
     "languageId": "raw"
    }
   },
   "source": [
    "for event in tree:\n",
    "    if event.event == 36099:  # or tree.Event.event if using nested branches\n",
    "        dedx_list = event.cluster_DeDxStrip[1]\n",
    "        print(f\"dE/dx hits for event 36099, track 1:\")\n",
    "        for i, dedx in enumerate(dedx_list):\n",
    "            print(f\"  Hit {i}: {dedx}\")\n",
    "        break"
   ]
  },
  {
   "cell_type": "raw",
   "id": "79d7c346",
   "metadata": {
    "vscode": {
     "languageId": "raw"
    }
   },
   "source": [
    "nbins, lo, hi = utils.freedman_diaconis_bins(dedx_list)\n",
    "\n",
    "hist = rt.TH1F(\"h_dedx\",\"Evt 36099, Trk 1;dE/dx (MeV/cm);Entries\", \n",
    "              nbins,    # # bins\n",
    "              lo,   # x-min\n",
    "              hi  # x-max\n",
    "              )\n",
    "for dedx in dedx_list:\n",
    "    hist.Fill(dedx)\n",
    "\n",
    "c = rt.TCanvas(\"c_dedx\", \"dE/dx Hits for Event 36099, Track 1\", 800, 600)\n",
    "rt.gStyle.SetOptStat(\"nersk\")\n",
    "hist.SetMaximum(hist.GetMaximum() * 1.2)\n",
    "hist.Draw(\"hist\")\n",
    "mpv_guess, amp_guess, sigma_guess = utils.seeds(hist)\n",
    "                \n",
    "\n",
    "\n",
    "landau = rt.TF1(\"landau\", \"landau\", 0, hi)\n",
    "landau.SetLineColor(rt.kRed)\n",
    "\n",
    "\n",
    "landau.SetParameters(amp_guess, mpv_guess, sigma_guess)\n",
    "\n",
    "hist.Fit(landau, \"R\")\n",
    "landau.Draw(\"same\")\n",
    "\n",
    "c.Update()"
   ]
  },
  {
   "cell_type": "raw",
   "id": "ae1726c4",
   "metadata": {
    "vscode": {
     "languageId": "raw"
    }
   },
   "source": [
    "landau_mpv = landau.GetParameter(1)\n",
    "landau_sigma = landau.GetParameter(2)\n",
    "\n",
    "print(f\"Landau MPV: {landau_mpv}, Sigma: {landau_sigma}\")"
   ]
  },
  {
   "cell_type": "raw",
   "id": "fed03ebe",
   "metadata": {
    "vscode": {
     "languageId": "raw"
    }
   },
   "source": [
    "for branch in tree.GetListOfBranches():\n",
    "    for leaf in branch.GetListOfLeaves():\n",
    "        print(f\"Branch `{branch.GetName()}` → Leaf `{leaf.GetName()}` : {leaf.GetTypeName()}\")"
   ]
  },
  {
   "cell_type": "raw",
   "id": "9c14a05b",
   "metadata": {
    "vscode": {
     "languageId": "raw"
    }
   },
   "source": [
    "branches = [\n",
    "    \"DeDx_PixelNoL1NOM\",\n",
    "    \"IsoTrack_pt\",\n",
    "    \"HLT_Mu50\",\n",
    "    \"IsoTrack_fractionOfValidHits\",             \n",
    "    \"IsoTrack_isHighPurityTrack\",\n",
    "    \"IsoTrack_normChi2\",\n",
    "    \"IsoTrack_dxy\",\n",
    "    \"IsoTrack_dz\",\n",
    "    \"IsoTrack_numberOfValidHits\"\n",
    "]\n",
    "\n",
    "\n",
    "for bname in branches:\n",
    "    br = tree.GetBranch(bname)\n",
    "    if not br:\n",
    "        print(f\"⚠️  Branch `{bname}` not found in tree.\")\n",
    "        continue\n",
    "\n",
    "    # every leaf has a type name; most branches have one leaf\n",
    "    leaves = list(br.GetListOfLeaves())\n",
    "    types  = [leaf.GetTypeName() for leaf in leaves]\n",
    "    print(f\"Branch `{bname}` → leaf types: {types}\")"
   ]
  },
  {
   "cell_type": "code",
   "execution_count": 13,
   "id": "29a74b96",
   "metadata": {},
   "outputs": [
    {
     "name": "stdout",
     "output_type": "stream",
     "text": [
      "\u001b[34mHSCPFullAODAnalyzer\u001b[0m\n",
      "  \u001b[32mEvents\u001b[0m  \u001b[32mEvents\u001b[0m  EventCutFlow  HSCPCutFlow\n",
      "\n"
     ]
    }
   ],
   "source": [
    "!rootls -r ../data/HSCPgluino_M-1800_fromAOD_all.root"
   ]
  },
  {
   "cell_type": "code",
   "execution_count": 14,
   "id": "c31acb06",
   "metadata": {},
   "outputs": [],
   "source": [
    "file = rt.TFile(\"../data/HSCPgluino_M-1800_fromAOD_all.root\")\n",
    "tree = file.Get(\"HSCPFullAODAnalyzer/Events\")"
   ]
  },
  {
   "cell_type": "code",
   "execution_count": 15,
   "id": "25400d3e",
   "metadata": {},
   "outputs": [
    {
     "name": "stdout",
     "output_type": "stream",
     "text": [
      "99732\n"
     ]
    },
    {
     "name": "stdout",
     "output_type": "stream",
     "text": [
      "Total number of tracks: 136962\n"
     ]
    }
   ],
   "source": [
    "print(tree.GetEntries())\n",
    "sum = 0\n",
    "for event in tree:\n",
    "    sum += len(event.IsoTrack_pt)\n",
    "\n",
    "print(\"Total number of tracks:\", sum)"
   ]
  },
  {
   "cell_type": "code",
   "execution_count": null,
   "id": "7a786430",
   "metadata": {},
   "outputs": [],
   "source": []
  },
  {
   "cell_type": "code",
   "execution_count": 16,
   "id": "46c14680",
   "metadata": {},
   "outputs": [
    {
     "name": "stdout",
     "output_type": "stream",
     "text": [
      "Number of events: 6740\n",
      "Total tracks in all events: 14797\n",
      "Tracks per event array:\n",
      " [3 1 2 ... 2 5 5]\n"
     ]
    }
   ],
   "source": [
    "df_pd = df_filtered_all.AsNumpy(columns=[\"IsoTrack_p\"])\n",
    "\n",
    "\n",
    "p_lists     = df_pd[\"IsoTrack_p\"]         # array of python lists\n",
    "n_tracks_arr = np.array([ len(lst) for lst in p_lists ])\n",
    "print(\"Number of events:\", p_lists.shape[0])\n",
    "total_tracks = n_tracks_arr.sum()\n",
    "print(\"Total tracks in all events:\", total_tracks)\n",
    "print(\"Tracks per event array:\\n\", n_tracks_arr)"
   ]
  },
  {
   "cell_type": "code",
   "execution_count": null,
   "id": "0a323f72",
   "metadata": {},
   "outputs": [],
   "source": []
  }
 ],
 "metadata": {
  "kernelspec": {
   "display_name": "PyROOT+ROOT (.venv)",
   "language": "python",
   "name": "pyroot-root"
  },
  "language_info": {
   "codemirror_mode": {
    "name": "ipython",
    "version": 3
   },
   "file_extension": ".py",
   "mimetype": "text/x-python",
   "name": "python",
   "nbconvert_exporter": "python",
   "pygments_lexer": "ipython3",
   "version": "3.12.3"
  }
 },
 "nbformat": 4,
 "nbformat_minor": 5
}
