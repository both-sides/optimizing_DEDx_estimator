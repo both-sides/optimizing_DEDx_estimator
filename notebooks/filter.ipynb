{
 "cells": [],
 "metadata": {
  "kernelspec": {
   "display_name": "PyROOT+ROOT (.venv)",
   "language": "python",
   "name": "pyroot-root"
  },
  "language_info": {
   "name": "python",
   "version": "3.12.3"
  }
 },
 "nbformat": 4,
 "nbformat_minor": 5
}
